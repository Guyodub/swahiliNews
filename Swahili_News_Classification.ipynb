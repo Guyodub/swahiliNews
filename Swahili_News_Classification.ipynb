{
 "cells": [
  {
   "cell_type": "markdown",
   "metadata": {
    "id": "FTegAS3GG9ab"
   },
   "source": [
    "# Swahili News Classification Problem\n",
    "\n",
    "[Guyo Dub Jarso ](https://www.linkedin.com/in/guyo-dub-jarso-049a1a127/).\n",
    "\n",
    "\n",
    "## Overview\n",
    "Kiswahili is a lingua franca spoken by 100-150 million people across East Africa. It is an official language in the DRC, Kenya, Tanzania, and Uganda; in Tanzania it is a first language for most people and the official language of instruction in all schools, while in other countries it is a common second language. News in Kiswahili is an important part of the media sphere in East Africa.\n",
    "\n",
    "News contributes to education, technology, and economic growth of a country, and news in local languages plays an important cultural role in many Africa countries. In the modern age, African languages in news and other spheres are at risk of being lost as English becomes the dominant language in online spaces.\n",
    "\n",
    "## Objective\n",
    "The objective of this project is to develop a multi-class classification model to classify news content according to six specific categories.\n",
    "\n",
    "## Application\n",
    "This result (Model) of this project can be used by Swahili online platforms to automatically group news according to their categories and help readers find the specific news they want to read.\n",
    "\n",
    "\n",
    "### Contribution\n",
    "In addition, the model will contribute to a body of work ensuring that Swahili is represented in apps and other online products in future."
   ]
  },
  {
   "cell_type": "markdown",
   "metadata": {
    "id": "q5vZF6x1bvFY"
   },
   "source": [
    "### Install and import neccesary libraries"
   ]
  },
  {
   "cell_type": "code",
   "execution_count": 26,
   "metadata": {
    "colab": {
     "base_uri": "https://localhost:8080/"
    },
    "id": "tkLf8rWTPMhz",
    "outputId": "e598dc1e-0d35-4f3f-f09a-3eb55c1e33bb"
   },
   "outputs": [],
   "source": [
    "#Import neccessary libraries\n",
    "import numpy as np\n",
    "import pandas as pd\n",
    "import matplotlib.pyplot as plt\n",
    "import seaborn as sns\n",
    "#export\n",
    "import os\n",
    "import time\n",
    "import re\n",
    "from tqdm import tqdm\n",
    "\n",
    "#libraries for feature engineering\n",
    "from sklearn.feature_extraction.text import CountVectorizer, TfidfVectorizer\n",
    "from sklearn import preprocessing\n",
    "from sklearn.model_selection import train_test_split, StratifiedKFold, KFold\n",
    "\n",
    "##Libraries for machine learning models\n",
    "from sklearn.linear_model import LogisticRegression\n",
    "from sklearn.ensemble import RandomForestClassifier\n",
    "from sklearn.naive_bayes import MultinomialNB\n",
    "from sklearn.svm import LinearSVC\n",
    "from sklearn.model_selection import cross_val_score\n",
    "\n",
    "\n",
    "##Libraries for model evaluation\n",
    "from sklearn.metrics import confusion_matrix\n",
    "from sklearn.metrics import classification_report\n",
    "from sklearn.metrics import plot_confusion_matrix\n",
    "from sklearn.metrics import precision_recall_fscore_support as score\n",
    "\n",
    "#libraries for data preprocessing\n",
    "from nltk import word_tokenize\n",
    "from bs4 import BeautifulSoup\n",
    "from io import StringIO\n",
    "import re\n",
    "\n",
    "#libraries for saving the model\n",
    "import joblib\n",
    "\n",
    "#Functions\n",
    "def train_test_model(model, X_train, X_test, y_train, y_test,labels):\n",
    "    \"\"\" Train and test the model using the training and test data sets. Return the predictions, accuracy and metric reports. \"\"\"\n",
    "    print('Start training...', end='')\n",
    "    model.fit(X_train, y_train)\n",
    "    print('done!')\n",
    "    print('Start testing...', end='')\n",
    "    predictions = model.predict(X_test)\n",
    "    accuracy = model.score(X_test, y_test)\n",
    "    metrics_report = classification_report(y_test, predictions, target_names=labels)\n",
    "    precision, recall, fscore, train_support = score(y_test, predictions, average='weighted')\n",
    "    print('done!')\n",
    "    return predictions, accuracy, metrics_report, (precision, recall, fscore) \n",
    "\n",
    "\n",
    "#export\n",
    "def load_data(file_path):\n",
    "    \"\"\" Load the csv file and return a Dataframe. \"\"\"\n",
    "    df = pd.read_csv(file_path, delimiter=',')\n",
    "    return df\n",
    "\n",
    "def clean_text(text):\n",
    "    \"\"\" clean the text by removing special characters, punctuations, etc. \"\"\"\n",
    "    text = text.lower()\n",
    "    remove_xx_seq  = re.compile('xx+')\n",
    "    replace_by_space = re.compile('[/(){}\\[\\]\\|@,;]')\n",
    "    remove_special_characters = re.compile('[^0-9a-z +]')\n",
    "    remove_extra_space = re.compile('[^A-Za-z0-9]+')\n",
    "    remove_numbers = re.compile('[0-9]+')\n",
    "    text = re.sub(remove_xx_seq, ' ', text)\n",
    "    text = re.sub(replace_by_space, ' ', text)\n",
    "    text = re.sub(remove_special_characters, ' ', text)\n",
    "    text = re.sub(remove_numbers, ' ', text)\n",
    "    text = re.sub(remove_extra_space, ' ', text)\n",
    "    return text.strip()\n",
    "\n",
    "\n",
    "def preprocess_corpus(df, column='text'):\n",
    "    \"\"\" Preprocess the entire corpus including cleaning the text documents and return the updated dataframe. \"\"\"\n",
    "    df[column] = df[column].apply(clean_text)\n",
    "    return df\n",
    "\n",
    "def encode_labels(labels):\n",
    "    \"\"\" Encode the class labels into a numbers. \"\"\"\n",
    "    label_encoder = preprocessing.LabelEncoder()\n",
    "    label_encoder.fit(labels)\n",
    "    return label_encoder"
   ]
  },
  {
   "cell_type": "markdown",
   "metadata": {
    "id": "IydvNgQfXGKx"
   },
   "source": [
    "# Load the data"
   ]
  },
  {
   "cell_type": "code",
   "execution_count": 27,
   "metadata": {
    "colab": {
     "base_uri": "https://localhost:8080/",
     "height": 202
    },
    "id": "9ziBNy5HPMiB",
    "outputId": "cbb6d4ab-52c8-4c16-cec4-0d4741036442"
   },
   "outputs": [
    {
     "data": {
      "text/html": [
       "<div>\n",
       "<style scoped>\n",
       "    .dataframe tbody tr th:only-of-type {\n",
       "        vertical-align: middle;\n",
       "    }\n",
       "\n",
       "    .dataframe tbody tr th {\n",
       "        vertical-align: top;\n",
       "    }\n",
       "\n",
       "    .dataframe thead th {\n",
       "        text-align: right;\n",
       "    }\n",
       "</style>\n",
       "<table border=\"1\" class=\"dataframe\">\n",
       "  <thead>\n",
       "    <tr style=\"text-align: right;\">\n",
       "      <th></th>\n",
       "      <th>id</th>\n",
       "      <th>content</th>\n",
       "      <th>category</th>\n",
       "    </tr>\n",
       "  </thead>\n",
       "  <tbody>\n",
       "    <tr>\n",
       "      <th>0</th>\n",
       "      <td>SW4670</td>\n",
       "      <td>Bodi ya Utalii Tanzania (TTB) imesema, itafan...</td>\n",
       "      <td>uchumi</td>\n",
       "    </tr>\n",
       "    <tr>\n",
       "      <th>1</th>\n",
       "      <td>SW30826</td>\n",
       "      <td>PENDO FUNDISHA-MBEYA RAIS Dk. John Magufuri, ...</td>\n",
       "      <td>kitaifa</td>\n",
       "    </tr>\n",
       "    <tr>\n",
       "      <th>2</th>\n",
       "      <td>SW29725</td>\n",
       "      <td>Mwandishi Wetu -Singida BENKI ya NMB imetoa ms...</td>\n",
       "      <td>uchumi</td>\n",
       "    </tr>\n",
       "    <tr>\n",
       "      <th>3</th>\n",
       "      <td>SW20901</td>\n",
       "      <td>TIMU ya taifa ya Tanzania, Serengeti Boys jan...</td>\n",
       "      <td>michezo</td>\n",
       "    </tr>\n",
       "    <tr>\n",
       "      <th>4</th>\n",
       "      <td>SW12560</td>\n",
       "      <td>Na AGATHA CHARLES – DAR ES SALAAM ALIYEKUWA K...</td>\n",
       "      <td>kitaifa</td>\n",
       "    </tr>\n",
       "  </tbody>\n",
       "</table>\n",
       "</div>"
      ],
      "text/plain": [
       "        id                                            content category\n",
       "0   SW4670   Bodi ya Utalii Tanzania (TTB) imesema, itafan...   uchumi\n",
       "1  SW30826   PENDO FUNDISHA-MBEYA RAIS Dk. John Magufuri, ...  kitaifa\n",
       "2  SW29725  Mwandishi Wetu -Singida BENKI ya NMB imetoa ms...   uchumi\n",
       "3  SW20901   TIMU ya taifa ya Tanzania, Serengeti Boys jan...  michezo\n",
       "4  SW12560   Na AGATHA CHARLES – DAR ES SALAAM ALIYEKUWA K...  kitaifa"
      ]
     },
     "execution_count": 27,
     "metadata": {},
     "output_type": "execute_result"
    }
   ],
   "source": [
    "#read the data set\n",
    "df = pd.read_csv('data.csv')\n",
    "df.head()"
   ]
  },
  {
   "cell_type": "code",
   "execution_count": 28,
   "metadata": {
    "id": "2SsB6DdlPMiG"
   },
   "outputs": [],
   "source": [
    "#drop missing values\n",
    "df = df[pd.notnull(df['content'])]"
   ]
  },
  {
   "cell_type": "code",
   "execution_count": 29,
   "metadata": {
    "colab": {
     "base_uri": "https://localhost:8080/"
    },
    "id": "kqVt0qoxPMiJ",
    "outputId": "6394d3eb-e848-400f-defb-17439724f8ae"
   },
   "outputs": [
    {
     "name": "stdout",
     "output_type": "stream",
     "text": [
      "<class 'pandas.core.frame.DataFrame'>\n",
      "Int64Index: 23268 entries, 0 to 23267\n",
      "Data columns (total 3 columns):\n",
      " #   Column    Non-Null Count  Dtype \n",
      "---  ------    --------------  ----- \n",
      " 0   id        23268 non-null  object\n",
      " 1   content   23268 non-null  object\n",
      " 2   category  23268 non-null  object\n",
      "dtypes: object(3)\n",
      "memory usage: 727.1+ KB\n"
     ]
    }
   ],
   "source": [
    "#get a concise summary of the dataframe\n",
    "df.info()"
   ]
  },
  {
   "cell_type": "code",
   "execution_count": 30,
   "metadata": {
    "colab": {
     "base_uri": "https://localhost:8080/"
    },
    "id": "ek7bIb-wPMiM",
    "outputId": "19503b83-8fb1-4c34-87f9-4f0648947134"
   },
   "outputs": [
    {
     "data": {
      "text/plain": [
       "Index(['id', 'content', 'category'], dtype='object')"
      ]
     },
     "execution_count": 30,
     "metadata": {},
     "output_type": "execute_result"
    }
   ],
   "source": [
    "#Check columns in the data\n",
    "df.columns"
   ]
  },
  {
   "cell_type": "code",
   "execution_count": 31,
   "metadata": {
    "id": "amqBxSXBPMiW"
   },
   "outputs": [],
   "source": [
    "# encode the category column and save as category_id\n",
    "df['category_id'] = df['category'].factorize()[0]\n",
    "#drop duplicates\n",
    "category_id_df = df[['category', 'category_id']].drop_duplicates().sort_values('category_id')\n",
    "#convert to a dictionary\n",
    "category_to_id = dict(category_id_df.values)\n",
    "#Create a dictionary of category and category_id\n",
    "id_to_category = dict(category_id_df[['category_id', 'category']].values)"
   ]
  },
  {
   "cell_type": "markdown",
   "metadata": {
    "id": "TUUm3BuReiwA"
   },
   "source": [
    "# Classes"
   ]
  },
  {
   "cell_type": "code",
   "execution_count": 32,
   "metadata": {
    "colab": {
     "base_uri": "https://localhost:8080/",
     "height": 425
    },
    "id": "DifQ0GiAPMii",
    "outputId": "972c567b-71b2-4b6b-9031-2cc5a1c4f196"
   },
   "outputs": [
    {
     "data": {
      "image/png": "[encoded data removed]",
      "text/plain": [
       "<Figure size 576x432 with 1 Axes>"
      ]
     },
     "metadata": {
      "needs_background": "light"
     },
     "output_type": "display_data"
    }
   ],
   "source": [
    "#Plot the classes\n",
    "import matplotlib.pyplot as plt\n",
    "fig = plt.figure(figsize=(8,6))\n",
    "df.groupby('category').content.count().plot.bar(ylim=0)\n",
    "plt.show()"
   ]
  },
  {
   "cell_type": "markdown",
   "metadata": {
    "id": "XgQwM1e3enNW"
   },
   "source": [
    "It is clear from the bar chart above that the class is imbalanced"
   ]
  },
  {
   "cell_type": "markdown",
   "metadata": {
    "id": "FAIkkb6gd-iW"
   },
   "source": [
    "# Let See the few lines of the data"
   ]
  },
  {
   "cell_type": "code",
   "execution_count": 33,
   "metadata": {
    "colab": {
     "base_uri": "https://localhost:8080/",
     "height": 202
    },
    "id": "Qf-LBXIDPMif",
    "outputId": "3f1ca9cc-ed66-4111-a4c9-2e6794811bad"
   },
   "outputs": [
    {
     "data": {
      "text/html": [
       "<div>\n",
       "<style scoped>\n",
       "    .dataframe tbody tr th:only-of-type {\n",
       "        vertical-align: middle;\n",
       "    }\n",
       "\n",
       "    .dataframe tbody tr th {\n",
       "        vertical-align: top;\n",
       "    }\n",
       "\n",
       "    .dataframe thead th {\n",
       "        text-align: right;\n",
       "    }\n",
       "</style>\n",
       "<table border=\"1\" class=\"dataframe\">\n",
       "  <thead>\n",
       "    <tr style=\"text-align: right;\">\n",
       "      <th></th>\n",
       "      <th>id</th>\n",
       "      <th>content</th>\n",
       "      <th>category</th>\n",
       "      <th>category_id</th>\n",
       "    </tr>\n",
       "  </thead>\n",
       "  <tbody>\n",
       "    <tr>\n",
       "      <th>0</th>\n",
       "      <td>SW4670</td>\n",
       "      <td>Bodi ya Utalii Tanzania (TTB) imesema, itafan...</td>\n",
       "      <td>uchumi</td>\n",
       "      <td>0</td>\n",
       "    </tr>\n",
       "    <tr>\n",
       "      <th>1</th>\n",
       "      <td>SW30826</td>\n",
       "      <td>PENDO FUNDISHA-MBEYA RAIS Dk. John Magufuri, ...</td>\n",
       "      <td>kitaifa</td>\n",
       "      <td>1</td>\n",
       "    </tr>\n",
       "    <tr>\n",
       "      <th>2</th>\n",
       "      <td>SW29725</td>\n",
       "      <td>Mwandishi Wetu -Singida BENKI ya NMB imetoa ms...</td>\n",
       "      <td>uchumi</td>\n",
       "      <td>0</td>\n",
       "    </tr>\n",
       "    <tr>\n",
       "      <th>3</th>\n",
       "      <td>SW20901</td>\n",
       "      <td>TIMU ya taifa ya Tanzania, Serengeti Boys jan...</td>\n",
       "      <td>michezo</td>\n",
       "      <td>2</td>\n",
       "    </tr>\n",
       "    <tr>\n",
       "      <th>4</th>\n",
       "      <td>SW12560</td>\n",
       "      <td>Na AGATHA CHARLES – DAR ES SALAAM ALIYEKUWA K...</td>\n",
       "      <td>kitaifa</td>\n",
       "      <td>1</td>\n",
       "    </tr>\n",
       "  </tbody>\n",
       "</table>\n",
       "</div>"
      ],
      "text/plain": [
       "        id                                            content category  \\\n",
       "0   SW4670   Bodi ya Utalii Tanzania (TTB) imesema, itafan...   uchumi   \n",
       "1  SW30826   PENDO FUNDISHA-MBEYA RAIS Dk. John Magufuri, ...  kitaifa   \n",
       "2  SW29725  Mwandishi Wetu -Singida BENKI ya NMB imetoa ms...   uchumi   \n",
       "3  SW20901   TIMU ya taifa ya Tanzania, Serengeti Boys jan...  michezo   \n",
       "4  SW12560   Na AGATHA CHARLES – DAR ES SALAAM ALIYEKUWA K...  kitaifa   \n",
       "\n",
       "   category_id  \n",
       "0            0  \n",
       "1            1  \n",
       "2            0  \n",
       "3            2  \n",
       "4            1  "
      ]
     },
     "execution_count": 33,
     "metadata": {},
     "output_type": "execute_result"
    }
   ],
   "source": [
    "#Get the 5 rows of the data set\n",
    "df.head()"
   ]
  },
  {
   "cell_type": "markdown",
   "metadata": {
    "id": "XfYJBkfFdz5U"
   },
   "source": [
    "# A few things to notice here\n",
    "We have some of the noise in the data so we have to remove all that and also lets convert text into lower case."
   ]
  },
  {
   "cell_type": "markdown",
   "metadata": {
    "id": "x-GB_m5vfdO8"
   },
   "source": [
    "# Preprocessing"
   ]
  },
  {
   "cell_type": "code",
   "execution_count": 34,
   "metadata": {
    "id": "9b_Jo14neLNk"
   },
   "outputs": [],
   "source": [
    "df['content'] = df['content'].apply(lambda x: x.lower()) #lower casing\n",
    "df['content'] = df['content'].apply((lambda x: re.sub('[^a-zA-z0-9\\s]','',x))) # removing special chars"
   ]
  },
  {
   "cell_type": "markdown",
   "metadata": {
    "id": "WNHspLy5eRCY"
   },
   "source": [
    "# Let's look at the data again"
   ]
  },
  {
   "cell_type": "code",
   "execution_count": 35,
   "metadata": {
    "colab": {
     "base_uri": "https://localhost:8080/",
     "height": 415
    },
    "id": "BYJ0EgNfeT47",
    "outputId": "768de19a-0b6a-446b-eea5-d5bc72c94e4b"
   },
   "outputs": [
    {
     "data": {
      "text/html": [
       "<div>\n",
       "<style scoped>\n",
       "    .dataframe tbody tr th:only-of-type {\n",
       "        vertical-align: middle;\n",
       "    }\n",
       "\n",
       "    .dataframe tbody tr th {\n",
       "        vertical-align: top;\n",
       "    }\n",
       "\n",
       "    .dataframe thead th {\n",
       "        text-align: right;\n",
       "    }\n",
       "</style>\n",
       "<table border=\"1\" class=\"dataframe\">\n",
       "  <thead>\n",
       "    <tr style=\"text-align: right;\">\n",
       "      <th></th>\n",
       "      <th>id</th>\n",
       "      <th>content</th>\n",
       "      <th>category</th>\n",
       "      <th>category_id</th>\n",
       "    </tr>\n",
       "  </thead>\n",
       "  <tbody>\n",
       "    <tr>\n",
       "      <th>0</th>\n",
       "      <td>SW4670</td>\n",
       "      <td>bodi ya utalii tanzania ttb imesema itafanya ...</td>\n",
       "      <td>uchumi</td>\n",
       "      <td>0</td>\n",
       "    </tr>\n",
       "    <tr>\n",
       "      <th>1</th>\n",
       "      <td>SW30826</td>\n",
       "      <td>pendo fundishambeya rais dk john magufuri ame...</td>\n",
       "      <td>kitaifa</td>\n",
       "      <td>1</td>\n",
       "    </tr>\n",
       "    <tr>\n",
       "      <th>2</th>\n",
       "      <td>SW29725</td>\n",
       "      <td>mwandishi wetu singida benki ya nmb imetoa msa...</td>\n",
       "      <td>uchumi</td>\n",
       "      <td>0</td>\n",
       "    </tr>\n",
       "    <tr>\n",
       "      <th>3</th>\n",
       "      <td>SW20901</td>\n",
       "      <td>timu ya taifa ya tanzania serengeti boys jana...</td>\n",
       "      <td>michezo</td>\n",
       "      <td>2</td>\n",
       "    </tr>\n",
       "    <tr>\n",
       "      <th>4</th>\n",
       "      <td>SW12560</td>\n",
       "      <td>na agatha charles  dar es salaam aliyekuwa ka...</td>\n",
       "      <td>kitaifa</td>\n",
       "      <td>1</td>\n",
       "    </tr>\n",
       "    <tr>\n",
       "      <th>...</th>\n",
       "      <td>...</td>\n",
       "      <td>...</td>\n",
       "      <td>...</td>\n",
       "      <td>...</td>\n",
       "    </tr>\n",
       "    <tr>\n",
       "      <th>23258</th>\n",
       "      <td>SW6098</td>\n",
       "      <td>na ramadhan libenangamorogoro \\r\\nwafugaji wil...</td>\n",
       "      <td>kitaifa</td>\n",
       "      <td>1</td>\n",
       "    </tr>\n",
       "    <tr>\n",
       "      <th>23259</th>\n",
       "      <td>SW24061</td>\n",
       "      <td>mwandishi wetudar es salaam zaidi ya wafanyabi...</td>\n",
       "      <td>uchumi</td>\n",
       "      <td>0</td>\n",
       "    </tr>\n",
       "    <tr>\n",
       "      <th>23260</th>\n",
       "      <td>SW12537</td>\n",
       "      <td>na said ameir maelezo  kuwapatia wananchi dawa...</td>\n",
       "      <td>afya</td>\n",
       "      <td>5</td>\n",
       "    </tr>\n",
       "    <tr>\n",
       "      <th>23261</th>\n",
       "      <td>SW5272</td>\n",
       "      <td>mwili wa binadamu na viumbe wengine kama vile...</td>\n",
       "      <td>afya</td>\n",
       "      <td>5</td>\n",
       "    </tr>\n",
       "    <tr>\n",
       "      <th>23262</th>\n",
       "      <td>SW897</td>\n",
       "      <td>\\r\\n\\tna waandishi wetu  zanzibardar es salaam...</td>\n",
       "      <td>kitaifa</td>\n",
       "      <td>1</td>\n",
       "    </tr>\n",
       "  </tbody>\n",
       "</table>\n",
       "<p>23263 rows × 4 columns</p>\n",
       "</div>"
      ],
      "text/plain": [
       "            id                                            content category  \\\n",
       "0       SW4670   bodi ya utalii tanzania ttb imesema itafanya ...   uchumi   \n",
       "1      SW30826   pendo fundishambeya rais dk john magufuri ame...  kitaifa   \n",
       "2      SW29725  mwandishi wetu singida benki ya nmb imetoa msa...   uchumi   \n",
       "3      SW20901   timu ya taifa ya tanzania serengeti boys jana...  michezo   \n",
       "4      SW12560   na agatha charles  dar es salaam aliyekuwa ka...  kitaifa   \n",
       "...        ...                                                ...      ...   \n",
       "23258   SW6098  na ramadhan libenangamorogoro \\r\\nwafugaji wil...  kitaifa   \n",
       "23259  SW24061  mwandishi wetudar es salaam zaidi ya wafanyabi...   uchumi   \n",
       "23260  SW12537  na said ameir maelezo  kuwapatia wananchi dawa...     afya   \n",
       "23261   SW5272   mwili wa binadamu na viumbe wengine kama vile...     afya   \n",
       "23262    SW897  \\r\\n\\tna waandishi wetu  zanzibardar es salaam...  kitaifa   \n",
       "\n",
       "       category_id  \n",
       "0                0  \n",
       "1                1  \n",
       "2                0  \n",
       "3                2  \n",
       "4                1  \n",
       "...            ...  \n",
       "23258            1  \n",
       "23259            0  \n",
       "23260            5  \n",
       "23261            5  \n",
       "23262            1  \n",
       "\n",
       "[23263 rows x 4 columns]"
      ]
     },
     "execution_count": 35,
     "metadata": {},
     "output_type": "execute_result"
    }
   ],
   "source": [
    "df.head(-5)"
   ]
  },
  {
   "cell_type": "markdown",
   "metadata": {
    "id": "Cyv5KMqyebDi"
   },
   "source": [
    "Now the data looks better"
   ]
  },
  {
   "cell_type": "markdown",
   "metadata": {
    "id": "d0dEu1G2eu45"
   },
   "source": [
    "# This looks better.\n",
    "\n",
    "Lets pre-process the data so that we can use it to train the model\n",
    "\n",
    "Converting news into numerical data(TFI-DF)\n",
    "\n",
    "train test split"
   ]
  },
  {
   "cell_type": "code",
   "execution_count": 36,
   "metadata": {
    "id": "xOW9pZYPVee1"
   },
   "outputs": [],
   "source": [
    "# Create tfidf features from the text\n",
    "ngram_range   = (1, 1)\n",
    "max_features  = None\n",
    "vectorizer = TfidfVectorizer(input='content', ngram_range=ngram_range, min_df=3, max_df=0.9, max_features=max_features)\n",
    "\n",
    "# X, vectorizer = compute_tfidf(df['content'], stop_words, ngram_range, max_features)\n",
    "X = vectorizer.fit_transform(df['content'].values)\n",
    "\n",
    "# Encode the labels\n",
    "labels = df.category.unique()\n",
    "label_encoder = encode_labels(labels)\n",
    "y = label_encoder.transform(df.category)"
   ]
  },
  {
   "cell_type": "markdown",
   "metadata": {
    "id": "X453rDqiVo7X"
   },
   "source": [
    "# Split the dataset"
   ]
  },
  {
   "cell_type": "code",
   "execution_count": 37,
   "metadata": {
    "colab": {
     "base_uri": "https://localhost:8080/"
    },
    "id": "3kp393qEVusQ",
    "outputId": "37c9d586-70f7-422c-da84-1ff21ed4b26e"
   },
   "outputs": [
    {
     "name": "stdout",
     "output_type": "stream",
     "text": [
      "Training set Shape: (18614, 66647)  | Test set Shape: (4654, 66647)\n"
     ]
    }
   ],
   "source": [
    "# Split the dataset\n",
    "X_train, X_test, y_train, y_test = train_test_split(X, y, test_size=0.2, stratify=y)\n",
    "print('Training set Shape: {}  | Test set Shape: {}'.format(X_train.shape, X_test.shape))"
   ]
  },
  {
   "cell_type": "markdown",
   "metadata": {
    "id": "lLmDbzxxUezk"
   },
   "source": [
    "## Model Building"
   ]
  },
  {
   "cell_type": "markdown",
   "metadata": {
    "id": "xboeOIs-UkYi"
   },
   "source": [
    "### Comparing different models in cross-validation"
   ]
  },
  {
   "cell_type": "markdown",
   "metadata": {
    "id": "MHOwAj-vf6pq"
   },
   "source": [
    "I am  comparing 3 models; \n",
    "\n",
    "\n",
    "- Naive Bayes (NB)\n",
    "\n",
    "- Linear SVM\n",
    "\n",
    "- Random Forest\n",
    "\n",
    "\n",
    "Ther are so many ML models out there for multi-lass classsification but I have decided to use this three. \n",
    "\n",
    "However, please note that, I am  doing Multinomial Classifier because it is often the baseline classifier for a text classification. Support Vector machine because it does well in a sparse data set and will also try Random Forest Classifier because it is good in this kind of classification.\n",
    "\n"
   ]
  },
  {
   "cell_type": "markdown",
   "metadata": {
    "id": "Us_IJzabWXjA"
   },
   "source": [
    "## Naive Bayes Classifier"
   ]
  },
  {
   "cell_type": "code",
   "execution_count": 43,
   "metadata": {
    "colab": {
     "base_uri": "https://localhost:8080/",
     "height": 721
    },
    "id": "bq3JQJKpWLqG",
    "outputId": "707a18bb-4bc0-4ab2-acd0-7fc8908b2770"
   },
   "outputs": [
    {
     "name": "stdout",
     "output_type": "stream",
     "text": [
      "Number of documents = 18614  |  Number of features = 66647\n",
      "Start training...done!\n",
      "Start testing...done!\n",
      "Total time: 0.20s\n",
      "accuracy: 0.7516115169746455\n",
      "====================================================================================================\n",
      "              precision    recall  f1-score   support\n",
      "\n",
      "      uchumi       0.00      0.00      0.00       172\n",
      "     kitaifa       0.88      0.58      0.70       446\n",
      "     michezo       1.00      0.11      0.19       381\n",
      "   kimataifa       0.66      0.98      0.79      2048\n",
      "    burudani       0.93      0.88      0.90      1201\n",
      "        afya       1.00      0.33      0.50       406\n",
      "\n",
      "    accuracy                           0.75      4654\n",
      "   macro avg       0.74      0.48      0.51      4654\n",
      "weighted avg       0.78      0.75      0.71      4654\n",
      "\n"
     ]
    },
    {
     "name": "stderr",
     "output_type": "stream",
     "text": [
      "C:\\Users\\USER\\anaconda3\\lib\\site-packages\\sklearn\\metrics\\_classification.py:1248: UndefinedMetricWarning: Precision and F-score are ill-defined and being set to 0.0 in labels with no predicted samples. Use `zero_division` parameter to control this behavior.\n",
      "  _warn_prf(average, modifier, msg_start, len(result))\n",
      "C:\\Users\\USER\\anaconda3\\lib\\site-packages\\sklearn\\metrics\\_classification.py:1248: UndefinedMetricWarning: Precision and F-score are ill-defined and being set to 0.0 in labels with no predicted samples. Use `zero_division` parameter to control this behavior.\n",
      "  _warn_prf(average, modifier, msg_start, len(result))\n",
      "C:\\Users\\USER\\anaconda3\\lib\\site-packages\\sklearn\\metrics\\_classification.py:1248: UndefinedMetricWarning: Precision and F-score are ill-defined and being set to 0.0 in labels with no predicted samples. Use `zero_division` parameter to control this behavior.\n",
      "  _warn_prf(average, modifier, msg_start, len(result))\n",
      "C:\\Users\\USER\\anaconda3\\lib\\site-packages\\sklearn\\metrics\\_classification.py:1248: UndefinedMetricWarning: Precision and F-score are ill-defined and being set to 0.0 in labels with no predicted samples. Use `zero_division` parameter to control this behavior.\n",
      "  _warn_prf(average, modifier, msg_start, len(result))\n"
     ]
    },
    {
     "data": {
      "text/plain": [
       "<sklearn.metrics._plot.confusion_matrix.ConfusionMatrixDisplay at 0x1d262f6c820>"
      ]
     },
     "execution_count": 43,
     "metadata": {},
     "output_type": "execute_result"
    },
    {
     "data": {
      "image/png": "[encoded data removed]",
      "text/plain": [
       "<Figure size 432x288 with 2 Axes>"
      ]
     },
     "metadata": {
      "needs_background": "light"
     },
     "output_type": "display_data"
    }
   ],
   "source": [
    "nb_model = MultinomialNB()\n",
    "print('Number of documents = {}  |  Number of features = {}'.format(X_train.shape[0], X_train.shape[1]))\n",
    "st_time = time.time()\n",
    "predictions, accuracy, metrics_report, nb_prf = train_test_model(nb_model, X_train, X_test, y_train, y_test, labels)\n",
    "en_time = time.time()\n",
    "print('Total time: {:.2f}s'.format(en_time-st_time))\n",
    "print('accuracy: {}'.format(accuracy))\n",
    "print('='*100)\n",
    "print(metrics_report)\n",
    "plot_confusion_matrix(nb_model, X_test, y_test, display_labels=labels, xticks_rotation='vertical', cmap=\"BuPu\")\n",
    "# plt.show()"
   ]
  },
  {
   "cell_type": "markdown",
   "metadata": {
    "id": "l0wjCRt6WqdA"
   },
   "source": [
    "## SVM"
   ]
  },
  {
   "cell_type": "code",
   "execution_count": 39,
   "metadata": {
    "colab": {
     "base_uri": "https://localhost:8080/",
     "height": 663
    },
    "id": "sxHiGLWpWZl0",
    "outputId": "5d0de057-aa2f-40ef-e9c4-e4cf2af598ac"
   },
   "outputs": [
    {
     "name": "stdout",
     "output_type": "stream",
     "text": [
      "Number of documents = 18614  |  Number of features = 66647\n",
      "Start training...done!\n",
      "Start testing...done!\n",
      "Total time: 1.75s\n",
      "accuracy: 0.86377309840997\n",
      "====================================================================================================\n",
      "              precision    recall  f1-score   support\n",
      "\n",
      "      uchumi       0.46      0.60      0.52       172\n",
      "     kitaifa       0.82      0.92      0.87       446\n",
      "     michezo       0.84      0.89      0.87       381\n",
      "   kimataifa       0.90      0.84      0.87      2048\n",
      "    burudani       0.95      0.93      0.94      1201\n",
      "        afya       0.74      0.80      0.77       406\n",
      "\n",
      "    accuracy                           0.86      4654\n",
      "   macro avg       0.79      0.83      0.81      4654\n",
      "weighted avg       0.87      0.86      0.87      4654\n",
      "\n"
     ]
    },
    {
     "data": {
      "text/plain": [
       "<sklearn.metrics._plot.confusion_matrix.ConfusionMatrixDisplay at 0x1d262c305e0>"
      ]
     },
     "execution_count": 39,
     "metadata": {},
     "output_type": "execute_result"
    },
    {
     "data": {
      "image/png": "[encoded data removed]",
      "text/plain": [
       "<Figure size 432x288 with 2 Axes>"
      ]
     },
     "metadata": {
      "needs_background": "light"
     },
     "output_type": "display_data"
    }
   ],
   "source": [
    "svm = LinearSVC(class_weight='balanced', verbose=False, max_iter=10000, tol=1e-4, C=0.1)\n",
    "print('Number of documents = {}  |  Number of features = {}'.format(X_train.shape[0], X_train.shape[1]))\n",
    "st_time = time.time()\n",
    "predictions, accuracy, metrics_report, svm_prf = train_test_model(svm, X_train, X_test, y_train, y_test, labels)\n",
    "en_time = time.time()\n",
    "print('Total time: {:.2f}s'.format(en_time-st_time))\n",
    "print('accuracy: {}'.format(accuracy))\n",
    "print('='*100)\n",
    "print(metrics_report)\n",
    "plot_confusion_matrix(svm, X_test, y_test, display_labels=labels, xticks_rotation='vertical', cmap=\"BuPu\")"
   ]
  },
  {
   "cell_type": "markdown",
   "metadata": {
    "id": "OC7VJlfNYR-r"
   },
   "source": [
    "## Random Forest"
   ]
  },
  {
   "cell_type": "code",
   "execution_count": 40,
   "metadata": {
    "colab": {
     "base_uri": "https://localhost:8080/",
     "height": 663
    },
    "id": "J0SQM3cRWa0l",
    "outputId": "3e541da2-3975-4171-e4a9-27a56e2c01c4"
   },
   "outputs": [
    {
     "name": "stdout",
     "output_type": "stream",
     "text": [
      "Number of documents = 18614  |  Number of features = 66647\n",
      "Start training...done!\n",
      "Start testing...done!\n",
      "Total time: 28.77s\n",
      "accuracy: 0.8070477009024495\n",
      "====================================================================================================\n",
      "              precision    recall  f1-score   support\n",
      "\n",
      "      uchumi       0.14      0.02      0.04       172\n",
      "     kitaifa       0.86      0.80      0.83       446\n",
      "     michezo       0.89      0.45      0.60       381\n",
      "   kimataifa       0.73      0.96      0.83      2048\n",
      "    burudani       0.95      0.92      0.93      1201\n",
      "        afya       0.99      0.38      0.55       406\n",
      "\n",
      "    accuracy                           0.81      4654\n",
      "   macro avg       0.76      0.59      0.63      4654\n",
      "weighted avg       0.81      0.81      0.78      4654\n",
      "\n"
     ]
    },
    {
     "data": {
      "text/plain": [
       "<sklearn.metrics._plot.confusion_matrix.ConfusionMatrixDisplay at 0x1d262c304c0>"
      ]
     },
     "execution_count": 40,
     "metadata": {},
     "output_type": "execute_result"
    },
    {
     "data": {
      "image/png": "[encoded data removed]",
      "text/plain": [
       "<Figure size 432x288 with 2 Axes>"
      ]
     },
     "metadata": {
      "needs_background": "light"
     },
     "output_type": "display_data"
    }
   ],
   "source": [
    "rf_model = RandomForestClassifier(n_estimators=100, max_depth=100, min_samples_split=10, n_jobs=-1, verbose=0)\n",
    "print('Number of documents = {}  |  Number of features = {}'.format(X_train.shape[0], X_train.shape[1]))\n",
    "st_time = time.time()\n",
    "predictions, accuracy, metrics_report, rf_prf = train_test_model(rf_model, X_train, X_test, y_train, y_test, labels)\n",
    "en_time = time.time()\n",
    "print('Total time: {:.2f}s'.format(en_time-st_time))\n",
    "print('accuracy: {}'.format(accuracy))\n",
    "print('='*100)\n",
    "print(metrics_report)\n",
    "plot_confusion_matrix(rf_model, X_test, y_test, display_labels=labels, xticks_rotation='vertical', cmap=\"BuPu\")"
   ]
  },
  {
   "cell_type": "markdown",
   "metadata": {
    "id": "tv4eCgTyZSbg"
   },
   "source": [
    "## Cross Validation of the model\n",
    "\n",
    "To cope up with imbalanced datasets,  cross validation will be performed."
   ]
  },
  {
   "cell_type": "code",
   "execution_count": 85,
   "metadata": {
    "id": "m5jPusyBPMje"
   },
   "outputs": [],
   "source": [
    "#List of all the models\n",
    "models = [\n",
    "    RandomForestClassifier(n_estimators=200, max_depth=3, random_state=0),\n",
    "    LinearSVC(),\n",
    "    MultinomialNB(),\n",
    "]\n",
    "#Choose the number of cross validations\n",
    "CV = 5\n",
    "#dataframe\n",
    "cv_df = pd.DataFrame(index=range(CV * len(models)))\n",
    "#iterate over the models, fit the models and store their accuracies in a list entries\n",
    "entries = []\n",
    "for model in models:\n",
    "  model_name = model.__class__.__name__\n",
    "  accuracies = cross_val_score(model, X, y, scoring='accuracy', cv=CV)\n",
    "  for fold_idx, accuracy in enumerate(accuracies):\n",
    "    entries.append((model_name, fold_idx, accuracy))\n",
    "\n",
    "#convert the list to datframe\n",
    "cv_df = pd.DataFrame(entries, columns=['model_name', 'fold_idx', 'accuracy'])"
   ]
  },
  {
   "cell_type": "markdown",
   "metadata": {
    "id": "4wyj_O9QUz0s"
   },
   "source": [
    "### Plot model accuracies"
   ]
  },
  {
   "cell_type": "code",
   "execution_count": 86,
   "metadata": {
    "colab": {
     "base_uri": "https://localhost:8080/",
     "height": 280
    },
    "id": "uenJoyx_PMjh",
    "outputId": "9e24887c-a8e9-4804-cea0-758e27c362d0"
   },
   "outputs": [
    {
     "data": {
      "image/png": "[encoded data removed]",
      "text/plain": [
       "<Figure size 432x288 with 1 Axes>"
      ]
     },
     "metadata": {
      "needs_background": "light",
      "tags": []
     },
     "output_type": "display_data"
    }
   ],
   "source": [
    "#plot the model accuracies\n",
    "sns.boxplot(x='model_name', y='accuracy', data=cv_df)\n",
    "sns.stripplot(x='model_name', y='accuracy', data=cv_df, \n",
    "              size=8, jitter=True, edgecolor=\"gray\", linewidth=2)\n",
    "plt.show()"
   ]
  },
  {
   "cell_type": "code",
   "execution_count": null,
   "metadata": {
    "colab": {
     "base_uri": "https://localhost:8080/"
    },
    "id": "QAYYMjHKPMji",
    "outputId": "609df9a9-988f-49fe-96af-e8372ee7f4d9"
   },
   "outputs": [
    {
     "data": {
      "text/plain": [
       "model_name\n",
       "LinearSVC                 0.870380\n",
       "MultinomialNB             0.839694\n",
       "RandomForestClassifier    0.659360\n",
       "Name: accuracy, dtype: float64"
      ]
     },
     "execution_count": 48,
     "metadata": {
      "tags": []
     },
     "output_type": "execute_result"
    }
   ],
   "source": [
    "#group the mean accuracy of the model by the names of the model\n",
    "cv_df.groupby('model_name').accuracy.mean()"
   ]
  },
  {
   "cell_type": "markdown",
   "metadata": {
    "id": "nff9s36KbwRU"
   },
   "source": [
    "The cross validation results show that the mean accuracy of SVM is 87%, thus still the front runner by followed by naive bayes at 85% accuracy and Random Forest ranking at position 3 with 65% accuracy"
   ]
  },
  {
   "cell_type": "markdown",
   "metadata": {
    "id": "et54I_G1X3yH"
   },
   "source": [
    "We can see also from the confusion matrix and classification report that SVM and Naive Bayes Classifiers are doing well in classifying this data"
   ]
  },
  {
   "cell_type": "code",
   "execution_count": 42,
   "metadata": {
    "colab": {
     "base_uri": "https://localhost:8080/"
    },
    "id": "b8VTmhqqcnit",
    "outputId": "46ee6ed4-f6c1-472e-892a-3e7848aecc27"
   },
   "outputs": [
    {
     "data": {
      "text/plain": [
       "MultinomialNB()"
      ]
     },
     "execution_count": 42,
     "metadata": {},
     "output_type": "execute_result"
    }
   ],
   "source": [
    "nb_model"
   ]
  },
  {
   "cell_type": "code",
   "execution_count": 44,
   "metadata": {
    "id": "AOfWV0Eyd5H_"
   },
   "outputs": [
    {
     "data": {
      "text/plain": [
       "array([3, 4, 3, ..., 3, 3, 3])"
      ]
     },
     "execution_count": 44,
     "metadata": {},
     "output_type": "execute_result"
    }
   ],
   "source": [
    "y_pred = nb_model.predict( X_test)\n",
    "y_pred"
   ]
  },
  {
   "cell_type": "markdown",
   "metadata": {
    "id": "vw-js-2jeDKD"
   },
   "source": [
    "# Let us look again at the confusion matrix for Naive Bayes Classifier"
   ]
  },
  {
   "cell_type": "code",
   "execution_count": 49,
   "metadata": {},
   "outputs": [],
   "source": [
    "model = nb_model\n",
    "\n",
    "X_train, X_test, y_train, y_test, indices_train, indices_test = train_test_split(X, y, df.index, test_size=0.33, random_state=0)\n",
    "model.fit(X_train, y_train)\n",
    "y_pred = model.predict(X_test)"
   ]
  },
  {
   "cell_type": "markdown",
   "metadata": {
    "id": "oHIXxKC1BksM"
   },
   "source": [
    "## Classification report"
   ]
  },
  {
   "cell_type": "code",
   "execution_count": 50,
   "metadata": {
    "colab": {
     "base_uri": "https://localhost:8080/"
    },
    "id": "NyUnqqkfPMj7",
    "outputId": "edd3a54b-9858-43cd-cae1-dcd9cafdbb0c"
   },
   "outputs": [
    {
     "name": "stdout",
     "output_type": "stream",
     "text": [
      "              precision    recall  f1-score   support\n",
      "\n",
      "      uchumi       0.00      0.00      0.00       300\n",
      "     kitaifa       0.89      0.47      0.61       721\n",
      "     michezo       1.00      0.08      0.15       600\n",
      "   kimataifa       0.65      0.98      0.78      3404\n",
      "    burudani       0.92      0.88      0.90      1965\n",
      "        afya       1.00      0.30      0.46       689\n",
      "\n",
      "    accuracy                           0.74      7679\n",
      "   macro avg       0.74      0.45      0.48      7679\n",
      "weighted avg       0.77      0.74      0.69      7679\n",
      "\n"
     ]
    },
    {
     "name": "stderr",
     "output_type": "stream",
     "text": [
      "C:\\Users\\USER\\anaconda3\\lib\\site-packages\\sklearn\\metrics\\_classification.py:1248: UndefinedMetricWarning: Precision and F-score are ill-defined and being set to 0.0 in labels with no predicted samples. Use `zero_division` parameter to control this behavior.\n",
      "  _warn_prf(average, modifier, msg_start, len(result))\n",
      "C:\\Users\\USER\\anaconda3\\lib\\site-packages\\sklearn\\metrics\\_classification.py:1248: UndefinedMetricWarning: Precision and F-score are ill-defined and being set to 0.0 in labels with no predicted samples. Use `zero_division` parameter to control this behavior.\n",
      "  _warn_prf(average, modifier, msg_start, len(result))\n",
      "C:\\Users\\USER\\anaconda3\\lib\\site-packages\\sklearn\\metrics\\_classification.py:1248: UndefinedMetricWarning: Precision and F-score are ill-defined and being set to 0.0 in labels with no predicted samples. Use `zero_division` parameter to control this behavior.\n",
      "  _warn_prf(average, modifier, msg_start, len(result))\n"
     ]
    }
   ],
   "source": [
    "#Classification report of LinearSVC\n",
    "from sklearn import metrics\n",
    "print(metrics.classification_report(y_test, y_pred, \n",
    "                                    target_names=df['category'].unique()))"
   ]
  },
  {
   "cell_type": "code",
   "execution_count": 51,
   "metadata": {},
   "outputs": [
    {
     "data": {
      "image/png": "[encoded data removed]",
      "text/plain": [
       "<Figure size 576x432 with 2 Axes>"
      ]
     },
     "metadata": {
      "needs_background": "light"
     },
     "output_type": "display_data"
    }
   ],
   "source": [
    "from sklearn.metrics import confusion_matrix\n",
    "import seaborn as sns\n",
    "conf_mat = confusion_matrix(y_test, y_pred)\n",
    "fig, ax = plt.subplots(figsize=(8,6))\n",
    "sns.heatmap(conf_mat, annot=True, fmt='d',\n",
    "            xticklabels=category_id_df.category.values, yticklabels=category_id_df.category.values)\n",
    "plt.ylabel('Actual')\n",
    "plt.xlabel('Predicted')\n",
    "plt.show()"
   ]
  },
  {
   "cell_type": "markdown",
   "metadata": {
    "id": "tKCGqAZvChO_"
   },
   "source": [
    "# Test the predictions"
   ]
  },
  {
   "cell_type": "code",
   "execution_count": 52,
   "metadata": {
    "colab": {
     "base_uri": "https://localhost:8080/",
     "height": 1000
    },
    "id": "z7kVsFqrPMjs",
    "outputId": "a071cec3-afb2-4b05-dda7-16a8e75103bd"
   },
   "outputs": [
    {
     "name": "stdout",
     "output_type": "stream",
     "text": [
      "'michezo' predicted as 'kitaifa' : 18 examples.\n"
     ]
    },
    {
     "data": {
      "text/html": [
       "<div>\n",
       "<style scoped>\n",
       "    .dataframe tbody tr th:only-of-type {\n",
       "        vertical-align: middle;\n",
       "    }\n",
       "\n",
       "    .dataframe tbody tr th {\n",
       "        vertical-align: top;\n",
       "    }\n",
       "\n",
       "    .dataframe thead th {\n",
       "        text-align: right;\n",
       "    }\n",
       "</style>\n",
       "<table border=\"1\" class=\"dataframe\">\n",
       "  <thead>\n",
       "    <tr style=\"text-align: right;\">\n",
       "      <th></th>\n",
       "      <th>category</th>\n",
       "      <th>content</th>\n",
       "    </tr>\n",
       "  </thead>\n",
       "  <tbody>\n",
       "    <tr>\n",
       "      <th>22034</th>\n",
       "      <td>kimataifa</td>\n",
       "      <td>badi mchomolo na mitandao  mtanzania linakulet...</td>\n",
       "    </tr>\n",
       "    <tr>\n",
       "      <th>3818</th>\n",
       "      <td>kimataifa</td>\n",
       "      <td>na christopher msekena hakuna msanii duniani a...</td>\n",
       "    </tr>\n",
       "    <tr>\n",
       "      <th>791</th>\n",
       "      <td>kimataifa</td>\n",
       "      <td>new york marekani  staa wa muziki wa\\r\\nrnb nc...</td>\n",
       "    </tr>\n",
       "    <tr>\n",
       "      <th>7433</th>\n",
       "      <td>kimataifa</td>\n",
       "      <td>new york marekani  nyota wa muziki wa hip hop ...</td>\n",
       "    </tr>\n",
       "    <tr>\n",
       "      <th>6648</th>\n",
       "      <td>kimataifa</td>\n",
       "      <td>new york marekani  rapa\\r\\noffset na mke wake ...</td>\n",
       "    </tr>\n",
       "    <tr>\n",
       "      <th>7506</th>\n",
       "      <td>kimataifa</td>\n",
       "      <td>cape\\r\\ntown afrika kusini mashabiki wa muziki...</td>\n",
       "    </tr>\n",
       "    <tr>\n",
       "      <th>8143</th>\n",
       "      <td>kimataifa</td>\n",
       "      <td>new york marekani mtoto wa staa wa muziki nchi...</td>\n",
       "    </tr>\n",
       "    <tr>\n",
       "      <th>11906</th>\n",
       "      <td>kimataifa</td>\n",
       "      <td>new york marekani  rapa kanye west amesema kil...</td>\n",
       "    </tr>\n",
       "    <tr>\n",
       "      <th>12727</th>\n",
       "      <td>kimataifa</td>\n",
       "      <td>new york marekani  mwanamitindo kutoka familia...</td>\n",
       "    </tr>\n",
       "    <tr>\n",
       "      <th>17876</th>\n",
       "      <td>kimataifa</td>\n",
       "      <td>paris ufaransa  staa wa muziki wa hip hop nchi...</td>\n",
       "    </tr>\n",
       "    <tr>\n",
       "      <th>23058</th>\n",
       "      <td>kimataifa</td>\n",
       "      <td>mwigizaji wa hollywood dwayne johnson maarufu...</td>\n",
       "    </tr>\n",
       "    <tr>\n",
       "      <th>19391</th>\n",
       "      <td>kimataifa</td>\n",
       "      <td>los angeles marekani staa wa muziki na filamu ...</td>\n",
       "    </tr>\n",
       "    <tr>\n",
       "      <th>19358</th>\n",
       "      <td>kimataifa</td>\n",
       "      <td>new york marekani  nyota wa muziki\\r\\nnchini m...</td>\n",
       "    </tr>\n",
       "    <tr>\n",
       "      <th>380</th>\n",
       "      <td>kimataifa</td>\n",
       "      <td>new york marekani rapa jayz amefunguka kwa ma...</td>\n",
       "    </tr>\n",
       "    <tr>\n",
       "      <th>13575</th>\n",
       "      <td>kimataifa</td>\n",
       "      <td>new jersey marekani  staa wa filamu nchini mar...</td>\n",
       "    </tr>\n",
       "    <tr>\n",
       "      <th>9944</th>\n",
       "      <td>kimataifa</td>\n",
       "      <td>new york marekani  rapa kutoka nchini afrika k...</td>\n",
       "    </tr>\n",
       "    <tr>\n",
       "      <th>21505</th>\n",
       "      <td>kimataifa</td>\n",
       "      <td>new york marekani  rapa rakim mayers maarufu k...</td>\n",
       "    </tr>\n",
       "    <tr>\n",
       "      <th>11959</th>\n",
       "      <td>kimataifa</td>\n",
       "      <td>new york marekani tuzo za filamu za oscar 91st...</td>\n",
       "    </tr>\n",
       "  </tbody>\n",
       "</table>\n",
       "</div>"
      ],
      "text/plain": [
       "        category                                            content\n",
       "22034  kimataifa  badi mchomolo na mitandao  mtanzania linakulet...\n",
       "3818   kimataifa  na christopher msekena hakuna msanii duniani a...\n",
       "791    kimataifa  new york marekani  staa wa muziki wa\\r\\nrnb nc...\n",
       "7433   kimataifa  new york marekani  nyota wa muziki wa hip hop ...\n",
       "6648   kimataifa  new york marekani  rapa\\r\\noffset na mke wake ...\n",
       "7506   kimataifa  cape\\r\\ntown afrika kusini mashabiki wa muziki...\n",
       "8143   kimataifa  new york marekani mtoto wa staa wa muziki nchi...\n",
       "11906  kimataifa  new york marekani  rapa kanye west amesema kil...\n",
       "12727  kimataifa  new york marekani  mwanamitindo kutoka familia...\n",
       "17876  kimataifa  paris ufaransa  staa wa muziki wa hip hop nchi...\n",
       "23058  kimataifa   mwigizaji wa hollywood dwayne johnson maarufu...\n",
       "19391  kimataifa  los angeles marekani staa wa muziki na filamu ...\n",
       "19358  kimataifa  new york marekani  nyota wa muziki\\r\\nnchini m...\n",
       "380    kimataifa   new york marekani rapa jayz amefunguka kwa ma...\n",
       "13575  kimataifa  new jersey marekani  staa wa filamu nchini mar...\n",
       "9944   kimataifa  new york marekani  rapa kutoka nchini afrika k...\n",
       "21505  kimataifa  new york marekani  rapa rakim mayers maarufu k...\n",
       "11959  kimataifa  new york marekani tuzo za filamu za oscar 91st..."
      ]
     },
     "metadata": {},
     "output_type": "display_data"
    },
    {
     "name": "stdout",
     "output_type": "stream",
     "text": [
      "\n",
      "'kimataifa' predicted as 'kitaifa' : 9 examples.\n"
     ]
    },
    {
     "data": {
      "text/html": [
       "<div>\n",
       "<style scoped>\n",
       "    .dataframe tbody tr th:only-of-type {\n",
       "        vertical-align: middle;\n",
       "    }\n",
       "\n",
       "    .dataframe tbody tr th {\n",
       "        vertical-align: top;\n",
       "    }\n",
       "\n",
       "    .dataframe thead th {\n",
       "        text-align: right;\n",
       "    }\n",
       "</style>\n",
       "<table border=\"1\" class=\"dataframe\">\n",
       "  <thead>\n",
       "    <tr style=\"text-align: right;\">\n",
       "      <th></th>\n",
       "      <th>category</th>\n",
       "      <th>content</th>\n",
       "    </tr>\n",
       "  </thead>\n",
       "  <tbody>\n",
       "    <tr>\n",
       "      <th>19753</th>\n",
       "      <td>kitaifa</td>\n",
       "      <td>msanii ommy dimpoz amewazodoa waliomzushia ki...</td>\n",
       "    </tr>\n",
       "    <tr>\n",
       "      <th>13506</th>\n",
       "      <td>kitaifa</td>\n",
       "      <td>na christopher msekenadar es salaam mwanamiti...</td>\n",
       "    </tr>\n",
       "    <tr>\n",
       "      <th>1984</th>\n",
       "      <td>kitaifa</td>\n",
       "      <td>wasanii wa muziki wa bongo fleva vanessa mdee...</td>\n",
       "    </tr>\n",
       "    <tr>\n",
       "      <th>13580</th>\n",
       "      <td>kitaifa</td>\n",
       "      <td>\\r\\n\\r\\n \\r\\n\\tna christopher msekena\\r\\n \\r\\n...</td>\n",
       "    </tr>\n",
       "    <tr>\n",
       "      <th>5289</th>\n",
       "      <td>kitaifa</td>\n",
       "      <td>the tanzania peoples defence forces tpdf has ...</td>\n",
       "    </tr>\n",
       "    <tr>\n",
       "      <th>8692</th>\n",
       "      <td>kitaifa</td>\n",
       "      <td>na glory mlay msanii wa bongo fleva marianne m...</td>\n",
       "    </tr>\n",
       "    <tr>\n",
       "      <th>8369</th>\n",
       "      <td>kitaifa</td>\n",
       "      <td>na bethsheba wambura dar es salaam msanii mko...</td>\n",
       "    </tr>\n",
       "    <tr>\n",
       "      <th>14585</th>\n",
       "      <td>kitaifa</td>\n",
       "      <td>na jessca nangawe staa wa mitindo nchini hami...</td>\n",
       "    </tr>\n",
       "    <tr>\n",
       "      <th>20910</th>\n",
       "      <td>kitaifa</td>\n",
       "      <td>msanii wa muziki nchini richard mavoko amekan...</td>\n",
       "    </tr>\n",
       "  </tbody>\n",
       "</table>\n",
       "</div>"
      ],
      "text/plain": [
       "      category                                            content\n",
       "19753  kitaifa   msanii ommy dimpoz amewazodoa waliomzushia ki...\n",
       "13506  kitaifa   na christopher msekenadar es salaam mwanamiti...\n",
       "1984   kitaifa   wasanii wa muziki wa bongo fleva vanessa mdee...\n",
       "13580  kitaifa  \\r\\n\\r\\n \\r\\n\\tna christopher msekena\\r\\n \\r\\n...\n",
       "5289   kitaifa   the tanzania peoples defence forces tpdf has ...\n",
       "8692   kitaifa  na glory mlay msanii wa bongo fleva marianne m...\n",
       "8369   kitaifa   na bethsheba wambura dar es salaam msanii mko...\n",
       "14585  kitaifa   na jessca nangawe staa wa mitindo nchini hami...\n",
       "20910  kitaifa   msanii wa muziki nchini richard mavoko amekan..."
      ]
     },
     "metadata": {},
     "output_type": "display_data"
    },
    {
     "name": "stdout",
     "output_type": "stream",
     "text": [
      "\n",
      "'burudani' predicted as 'kitaifa' : 13 examples.\n"
     ]
    },
    {
     "data": {
      "text/html": [
       "<div>\n",
       "<style scoped>\n",
       "    .dataframe tbody tr th:only-of-type {\n",
       "        vertical-align: middle;\n",
       "    }\n",
       "\n",
       "    .dataframe tbody tr th {\n",
       "        vertical-align: top;\n",
       "    }\n",
       "\n",
       "    .dataframe thead th {\n",
       "        text-align: right;\n",
       "    }\n",
       "</style>\n",
       "<table border=\"1\" class=\"dataframe\">\n",
       "  <thead>\n",
       "    <tr style=\"text-align: right;\">\n",
       "      <th></th>\n",
       "      <th>category</th>\n",
       "      <th>content</th>\n",
       "    </tr>\n",
       "  </thead>\n",
       "  <tbody>\n",
       "    <tr>\n",
       "      <th>11666</th>\n",
       "      <td>michezo</td>\n",
       "      <td>diamond alitangazwa mwanamuziki bora wa kiume...</td>\n",
       "    </tr>\n",
       "    <tr>\n",
       "      <th>9490</th>\n",
       "      <td>michezo</td>\n",
       "      <td>hivi karibu mwekezaji na mwenyekiti wa bodi ya...</td>\n",
       "    </tr>\n",
       "    <tr>\n",
       "      <th>18743</th>\n",
       "      <td>michezo</td>\n",
       "      <td>msanii vanessa mdee vee money amesaini mkatab...</td>\n",
       "    </tr>\n",
       "    <tr>\n",
       "      <th>7889</th>\n",
       "      <td>michezo</td>\n",
       "      <td>mwaka jana diamond alipata tuzo 10 na kwa mwa...</td>\n",
       "    </tr>\n",
       "    <tr>\n",
       "      <th>11362</th>\n",
       "      <td>michezo</td>\n",
       "      <td>rais wa wcb na msanii naseeb abdul maarufu ka...</td>\n",
       "    </tr>\n",
       "    <tr>\n",
       "      <th>10970</th>\n",
       "      <td>michezo</td>\n",
       "      <td>kwa mujibu wa mitandao kutoka nigeria vanessa...</td>\n",
       "    </tr>\n",
       "    <tr>\n",
       "      <th>974</th>\n",
       "      <td>michezo</td>\n",
       "      <td>mrembo na mfanyabiashara wa uganda zari hassa...</td>\n",
       "    </tr>\n",
       "    <tr>\n",
       "      <th>10725</th>\n",
       "      <td>michezo</td>\n",
       "      <td>msanii wa muziki wa kizazi kipya nchini omary...</td>\n",
       "    </tr>\n",
       "    <tr>\n",
       "      <th>5076</th>\n",
       "      <td>michezo</td>\n",
       "      <td>nuh ambaye mara zote amekuwa akiimba nyimbo z...</td>\n",
       "    </tr>\n",
       "    <tr>\n",
       "      <th>13582</th>\n",
       "      <td>michezo</td>\n",
       "      <td>nyota wa muziki nchini jana walijitokeza kwen...</td>\n",
       "    </tr>\n",
       "    <tr>\n",
       "      <th>6270</th>\n",
       "      <td>michezo</td>\n",
       "      <td>aliyewahi kuwa msimamizi wa mwonekano wa diamo...</td>\n",
       "    </tr>\n",
       "    <tr>\n",
       "      <th>2468</th>\n",
       "      <td>michezo</td>\n",
       "      <td>new york marekani staa wa muziki nchini mareka...</td>\n",
       "    </tr>\n",
       "    <tr>\n",
       "      <th>7279</th>\n",
       "      <td>michezo</td>\n",
       "      <td>rapa wa hollywood nicki minaj atangaza kustaa...</td>\n",
       "    </tr>\n",
       "  </tbody>\n",
       "</table>\n",
       "</div>"
      ],
      "text/plain": [
       "      category                                            content\n",
       "11666  michezo   diamond alitangazwa mwanamuziki bora wa kiume...\n",
       "9490   michezo  hivi karibu mwekezaji na mwenyekiti wa bodi ya...\n",
       "18743  michezo   msanii vanessa mdee vee money amesaini mkatab...\n",
       "7889   michezo   mwaka jana diamond alipata tuzo 10 na kwa mwa...\n",
       "11362  michezo   rais wa wcb na msanii naseeb abdul maarufu ka...\n",
       "10970  michezo   kwa mujibu wa mitandao kutoka nigeria vanessa...\n",
       "974    michezo   mrembo na mfanyabiashara wa uganda zari hassa...\n",
       "10725  michezo   msanii wa muziki wa kizazi kipya nchini omary...\n",
       "5076   michezo   nuh ambaye mara zote amekuwa akiimba nyimbo z...\n",
       "13582  michezo   nyota wa muziki nchini jana walijitokeza kwen...\n",
       "6270   michezo  aliyewahi kuwa msimamizi wa mwonekano wa diamo...\n",
       "2468   michezo  new york marekani staa wa muziki nchini mareka...\n",
       "7279   michezo   rapa wa hollywood nicki minaj atangaza kustaa..."
      ]
     },
     "metadata": {},
     "output_type": "display_data"
    },
    {
     "name": "stdout",
     "output_type": "stream",
     "text": [
      "\n",
      "'uchumi' predicted as 'kimataifa' : 299 examples.\n"
     ]
    },
    {
     "data": {
      "text/html": [
       "<div>\n",
       "<style scoped>\n",
       "    .dataframe tbody tr th:only-of-type {\n",
       "        vertical-align: middle;\n",
       "    }\n",
       "\n",
       "    .dataframe tbody tr th {\n",
       "        vertical-align: top;\n",
       "    }\n",
       "\n",
       "    .dataframe thead th {\n",
       "        text-align: right;\n",
       "    }\n",
       "</style>\n",
       "<table border=\"1\" class=\"dataframe\">\n",
       "  <thead>\n",
       "    <tr style=\"text-align: right;\">\n",
       "      <th></th>\n",
       "      <th>category</th>\n",
       "      <th>content</th>\n",
       "    </tr>\n",
       "  </thead>\n",
       "  <tbody>\n",
       "    <tr>\n",
       "      <th>7027</th>\n",
       "      <td>afya</td>\n",
       "      <td>na salum vuaizanzibar  waziri wa kazi uwezesha...</td>\n",
       "    </tr>\n",
       "    <tr>\n",
       "      <th>3173</th>\n",
       "      <td>afya</td>\n",
       "      <td>aveline kitomary dar es salaam maabara ya mkem...</td>\n",
       "    </tr>\n",
       "    <tr>\n",
       "      <th>12076</th>\n",
       "      <td>afya</td>\n",
       "      <td>christian bwaya hivi karibuni nilishuhudia\\r\\n...</td>\n",
       "    </tr>\n",
       "    <tr>\n",
       "      <th>7222</th>\n",
       "      <td>afya</td>\n",
       "      <td>nyemo malecelabukoba wanakijiji wenye hasira k...</td>\n",
       "    </tr>\n",
       "    <tr>\n",
       "      <th>13367</th>\n",
       "      <td>afya</td>\n",
       "      <td>mwandishi wetu dar es salaam waimba kwaya wa k...</td>\n",
       "    </tr>\n",
       "    <tr>\n",
       "      <th>...</th>\n",
       "      <td>...</td>\n",
       "      <td>...</td>\n",
       "    </tr>\n",
       "    <tr>\n",
       "      <th>16421</th>\n",
       "      <td>afya</td>\n",
       "      <td>na tunu nassor dar es salaam jamii imeombwa ku...</td>\n",
       "    </tr>\n",
       "    <tr>\n",
       "      <th>10626</th>\n",
       "      <td>afya</td>\n",
       "      <td>na veronica romwald  aliyekuwa kenya kwa ka...</td>\n",
       "    </tr>\n",
       "    <tr>\n",
       "      <th>2071</th>\n",
       "      <td>afya</td>\n",
       "      <td>na veronica romwald   dar es salaam serikali i...</td>\n",
       "    </tr>\n",
       "    <tr>\n",
       "      <th>15272</th>\n",
       "      <td>afya</td>\n",
       "      <td>janeth mushibabati chama cha wafugaji tanzania...</td>\n",
       "    </tr>\n",
       "    <tr>\n",
       "      <th>14372</th>\n",
       "      <td>afya</td>\n",
       "      <td>takribani tani bilioni 13 za chakula hutupwa k...</td>\n",
       "    </tr>\n",
       "  </tbody>\n",
       "</table>\n",
       "<p>299 rows × 2 columns</p>\n",
       "</div>"
      ],
      "text/plain": [
       "      category                                            content\n",
       "7027      afya  na salum vuaizanzibar  waziri wa kazi uwezesha...\n",
       "3173      afya  aveline kitomary dar es salaam maabara ya mkem...\n",
       "12076     afya  christian bwaya hivi karibuni nilishuhudia\\r\\n...\n",
       "7222      afya  nyemo malecelabukoba wanakijiji wenye hasira k...\n",
       "13367     afya  mwandishi wetu dar es salaam waimba kwaya wa k...\n",
       "...        ...                                                ...\n",
       "16421     afya  na tunu nassor dar es salaam jamii imeombwa ku...\n",
       "10626     afya     na veronica romwald  aliyekuwa kenya kwa ka...\n",
       "2071      afya  na veronica romwald   dar es salaam serikali i...\n",
       "15272     afya  janeth mushibabati chama cha wafugaji tanzania...\n",
       "14372     afya  takribani tani bilioni 13 za chakula hutupwa k...\n",
       "\n",
       "[299 rows x 2 columns]"
      ]
     },
     "metadata": {},
     "output_type": "display_data"
    },
    {
     "name": "stdout",
     "output_type": "stream",
     "text": [
      "\n",
      "'kitaifa' predicted as 'kimataifa' : 307 examples.\n"
     ]
    },
    {
     "data": {
      "text/html": [
       "<div>\n",
       "<style scoped>\n",
       "    .dataframe tbody tr th:only-of-type {\n",
       "        vertical-align: middle;\n",
       "    }\n",
       "\n",
       "    .dataframe tbody tr th {\n",
       "        vertical-align: top;\n",
       "    }\n",
       "\n",
       "    .dataframe thead th {\n",
       "        text-align: right;\n",
       "    }\n",
       "</style>\n",
       "<table border=\"1\" class=\"dataframe\">\n",
       "  <thead>\n",
       "    <tr style=\"text-align: right;\">\n",
       "      <th></th>\n",
       "      <th>category</th>\n",
       "      <th>content</th>\n",
       "    </tr>\n",
       "  </thead>\n",
       "  <tbody>\n",
       "    <tr>\n",
       "      <th>1730</th>\n",
       "      <td>burudani</td>\n",
       "      <td>na esther georgedar es salaam aliyekuwa meneja...</td>\n",
       "    </tr>\n",
       "    <tr>\n",
       "      <th>14952</th>\n",
       "      <td>burudani</td>\n",
       "      <td>mwanamuziki wa taarab isha mashauzi ameweka w...</td>\n",
       "    </tr>\n",
       "    <tr>\n",
       "      <th>21636</th>\n",
       "      <td>burudani</td>\n",
       "      <td>new york marekani baada ya nyota wa zamani wa ...</td>\n",
       "    </tr>\n",
       "    <tr>\n",
       "      <th>16675</th>\n",
       "      <td>burudani</td>\n",
       "      <td>\\r\\n\\r\\n \\r\\n\\tna joseph shaluwa\\r\\n \\r\\n\\tmas...</td>\n",
       "    </tr>\n",
       "    <tr>\n",
       "      <th>3882</th>\n",
       "      <td>burudani</td>\n",
       "      <td>\\r\\n\\tna kyalaa seheye\\r\\n \\r\\n\\r\\n \\r\\n\\tmwan...</td>\n",
       "    </tr>\n",
       "    <tr>\n",
       "      <th>...</th>\n",
       "      <td>...</td>\n",
       "      <td>...</td>\n",
       "    </tr>\n",
       "    <tr>\n",
       "      <th>11307</th>\n",
       "      <td>burudani</td>\n",
       "      <td>na mwali ibrahim safari ya mwisho duniani ya m...</td>\n",
       "    </tr>\n",
       "    <tr>\n",
       "      <th>17569</th>\n",
       "      <td>burudani</td>\n",
       "      <td>na suzana makorongo rct unaweza kusema kwamba ...</td>\n",
       "    </tr>\n",
       "    <tr>\n",
       "      <th>22660</th>\n",
       "      <td>burudani</td>\n",
       "      <td>na christopher msekena mkali wa vichekesho nch...</td>\n",
       "    </tr>\n",
       "    <tr>\n",
       "      <th>9337</th>\n",
       "      <td>burudani</td>\n",
       "      <td>jeremia ernest mbunifu maarufu wa mavazi nchin...</td>\n",
       "    </tr>\n",
       "    <tr>\n",
       "      <th>15239</th>\n",
       "      <td>burudani</td>\n",
       "      <td>na george kayala waandaaji wa tamasha la la kw...</td>\n",
       "    </tr>\n",
       "  </tbody>\n",
       "</table>\n",
       "<p>307 rows × 2 columns</p>\n",
       "</div>"
      ],
      "text/plain": [
       "       category                                            content\n",
       "1730   burudani  na esther georgedar es salaam aliyekuwa meneja...\n",
       "14952  burudani   mwanamuziki wa taarab isha mashauzi ameweka w...\n",
       "21636  burudani  new york marekani baada ya nyota wa zamani wa ...\n",
       "16675  burudani  \\r\\n\\r\\n \\r\\n\\tna joseph shaluwa\\r\\n \\r\\n\\tmas...\n",
       "3882   burudani  \\r\\n\\tna kyalaa seheye\\r\\n \\r\\n\\r\\n \\r\\n\\tmwan...\n",
       "...         ...                                                ...\n",
       "11307  burudani  na mwali ibrahim safari ya mwisho duniani ya m...\n",
       "17569  burudani  na suzana makorongo rct unaweza kusema kwamba ...\n",
       "22660  burudani  na christopher msekena mkali wa vichekesho nch...\n",
       "9337   burudani  jeremia ernest mbunifu maarufu wa mavazi nchin...\n",
       "15239  burudani  na george kayala waandaaji wa tamasha la la kw...\n",
       "\n",
       "[307 rows x 2 columns]"
      ]
     },
     "metadata": {},
     "output_type": "display_data"
    },
    {
     "name": "stdout",
     "output_type": "stream",
     "text": [
      "\n",
      "'michezo' predicted as 'kimataifa' : 521 examples.\n"
     ]
    },
    {
     "data": {
      "text/html": [
       "<div>\n",
       "<style scoped>\n",
       "    .dataframe tbody tr th:only-of-type {\n",
       "        vertical-align: middle;\n",
       "    }\n",
       "\n",
       "    .dataframe tbody tr th {\n",
       "        vertical-align: top;\n",
       "    }\n",
       "\n",
       "    .dataframe thead th {\n",
       "        text-align: right;\n",
       "    }\n",
       "</style>\n",
       "<table border=\"1\" class=\"dataframe\">\n",
       "  <thead>\n",
       "    <tr style=\"text-align: right;\">\n",
       "      <th></th>\n",
       "      <th>category</th>\n",
       "      <th>content</th>\n",
       "    </tr>\n",
       "  </thead>\n",
       "  <tbody>\n",
       "    <tr>\n",
       "      <th>31</th>\n",
       "      <td>kimataifa</td>\n",
       "      <td>\\r\\n\\tharare zimbabwe\\r\\n \\r\\n\\r\\n \\r\\n\\tfamil...</td>\n",
       "    </tr>\n",
       "    <tr>\n",
       "      <th>8383</th>\n",
       "      <td>kimataifa</td>\n",
       "      <td>washingtondcmarekani wizara  ya ulinzi   imese...</td>\n",
       "    </tr>\n",
       "    <tr>\n",
       "      <th>19151</th>\n",
       "      <td>kimataifa</td>\n",
       "      <td>moscow urusi  rais vladimir putin wa urusi ame...</td>\n",
       "    </tr>\n",
       "    <tr>\n",
       "      <th>9162</th>\n",
       "      <td>kimataifa</td>\n",
       "      <td>kampala uganda  tume ya mawasiliano uganda ucc...</td>\n",
       "    </tr>\n",
       "    <tr>\n",
       "      <th>13888</th>\n",
       "      <td>kimataifa</td>\n",
       "      <td>nairobi kenya  mbunge wa ruaraka tom j kajwang...</td>\n",
       "    </tr>\n",
       "    <tr>\n",
       "      <th>...</th>\n",
       "      <td>...</td>\n",
       "      <td>...</td>\n",
       "    </tr>\n",
       "    <tr>\n",
       "      <th>2553</th>\n",
       "      <td>kimataifa</td>\n",
       "      <td>nairobi kenya rais uhuru kenyatta ataapishwa ...</td>\n",
       "    </tr>\n",
       "    <tr>\n",
       "      <th>20207</th>\n",
       "      <td>kimataifa</td>\n",
       "      <td>nairobi kenya kenya inaongoza miongoni mwa ma...</td>\n",
       "    </tr>\n",
       "    <tr>\n",
       "      <th>6151</th>\n",
       "      <td>kimataifa</td>\n",
       "      <td>nairobi kenya  kinara wa muungano wa upinzani ...</td>\n",
       "    </tr>\n",
       "    <tr>\n",
       "      <th>1554</th>\n",
       "      <td>kimataifa</td>\n",
       "      <td>kigali\\r\\nrwanda kampuni ya mara nchini rwanda...</td>\n",
       "    </tr>\n",
       "    <tr>\n",
       "      <th>10397</th>\n",
       "      <td>kimataifa</td>\n",
       "      <td>serikali ya equatorial guinea imetangaza kuipa...</td>\n",
       "    </tr>\n",
       "  </tbody>\n",
       "</table>\n",
       "<p>521 rows × 2 columns</p>\n",
       "</div>"
      ],
      "text/plain": [
       "        category                                            content\n",
       "31     kimataifa  \\r\\n\\tharare zimbabwe\\r\\n \\r\\n\\r\\n \\r\\n\\tfamil...\n",
       "8383   kimataifa  washingtondcmarekani wizara  ya ulinzi   imese...\n",
       "19151  kimataifa  moscow urusi  rais vladimir putin wa urusi ame...\n",
       "9162   kimataifa  kampala uganda  tume ya mawasiliano uganda ucc...\n",
       "13888  kimataifa  nairobi kenya  mbunge wa ruaraka tom j kajwang...\n",
       "...          ...                                                ...\n",
       "2553   kimataifa   nairobi kenya rais uhuru kenyatta ataapishwa ...\n",
       "20207  kimataifa   nairobi kenya kenya inaongoza miongoni mwa ma...\n",
       "6151   kimataifa  nairobi kenya  kinara wa muungano wa upinzani ...\n",
       "1554   kimataifa  kigali\\r\\nrwanda kampuni ya mara nchini rwanda...\n",
       "10397  kimataifa  serikali ya equatorial guinea imetangaza kuipa...\n",
       "\n",
       "[521 rows x 2 columns]"
      ]
     },
     "metadata": {},
     "output_type": "display_data"
    },
    {
     "name": "stdout",
     "output_type": "stream",
     "text": [
      "\n",
      "'burudani' predicted as 'kimataifa' : 225 examples.\n"
     ]
    },
    {
     "data": {
      "text/html": [
       "<div>\n",
       "<style scoped>\n",
       "    .dataframe tbody tr th:only-of-type {\n",
       "        vertical-align: middle;\n",
       "    }\n",
       "\n",
       "    .dataframe tbody tr th {\n",
       "        vertical-align: top;\n",
       "    }\n",
       "\n",
       "    .dataframe thead th {\n",
       "        text-align: right;\n",
       "    }\n",
       "</style>\n",
       "<table border=\"1\" class=\"dataframe\">\n",
       "  <thead>\n",
       "    <tr style=\"text-align: right;\">\n",
       "      <th></th>\n",
       "      <th>category</th>\n",
       "      <th>content</th>\n",
       "    </tr>\n",
       "  </thead>\n",
       "  <tbody>\n",
       "    <tr>\n",
       "      <th>14155</th>\n",
       "      <td>michezo</td>\n",
       "      <td>na fredy azzahdodoma serikali imetoa sababu ti...</td>\n",
       "    </tr>\n",
       "    <tr>\n",
       "      <th>4920</th>\n",
       "      <td>michezo</td>\n",
       "      <td>baada ya kuachiwa huru mbasha alitoka nje ya ...</td>\n",
       "    </tr>\n",
       "    <tr>\n",
       "      <th>9331</th>\n",
       "      <td>michezo</td>\n",
       "      <td>zawadi hizo zitatolewa katika promosheni ya k...</td>\n",
       "    </tr>\n",
       "    <tr>\n",
       "      <th>9268</th>\n",
       "      <td>michezo</td>\n",
       "      <td>mkuu wa chuo cha kumbukumbu ya mwalimu nyerer...</td>\n",
       "    </tr>\n",
       "    <tr>\n",
       "      <th>21233</th>\n",
       "      <td>michezo</td>\n",
       "      <td>muigizaji wa bongo movie wema sepetu amesema ...</td>\n",
       "    </tr>\n",
       "    <tr>\n",
       "      <th>...</th>\n",
       "      <td>...</td>\n",
       "      <td>...</td>\n",
       "    </tr>\n",
       "    <tr>\n",
       "      <th>5419</th>\n",
       "      <td>michezo</td>\n",
       "      <td>msichana huoy amesema haamini kama amebeba ta...</td>\n",
       "    </tr>\n",
       "    <tr>\n",
       "      <th>21487</th>\n",
       "      <td>michezo</td>\n",
       "      <td>na mwandishi wetu kampuni ya sokabet imeingia...</td>\n",
       "    </tr>\n",
       "    <tr>\n",
       "      <th>6704</th>\n",
       "      <td>michezo</td>\n",
       "      <td>akizungumza na gazeti hili jana meneja wa cds...</td>\n",
       "    </tr>\n",
       "    <tr>\n",
       "      <th>5307</th>\n",
       "      <td>michezo</td>\n",
       "      <td>hatimaye aliyekuwa rais wa shirikisho la soka...</td>\n",
       "    </tr>\n",
       "    <tr>\n",
       "      <th>22432</th>\n",
       "      <td>michezo</td>\n",
       "      <td>waziri wa maliasili na utalii dk hamisi kigwa...</td>\n",
       "    </tr>\n",
       "  </tbody>\n",
       "</table>\n",
       "<p>225 rows × 2 columns</p>\n",
       "</div>"
      ],
      "text/plain": [
       "      category                                            content\n",
       "14155  michezo  na fredy azzahdodoma serikali imetoa sababu ti...\n",
       "4920   michezo   baada ya kuachiwa huru mbasha alitoka nje ya ...\n",
       "9331   michezo   zawadi hizo zitatolewa katika promosheni ya k...\n",
       "9268   michezo   mkuu wa chuo cha kumbukumbu ya mwalimu nyerer...\n",
       "21233  michezo   muigizaji wa bongo movie wema sepetu amesema ...\n",
       "...        ...                                                ...\n",
       "5419   michezo   msichana huoy amesema haamini kama amebeba ta...\n",
       "21487  michezo   na mwandishi wetu kampuni ya sokabet imeingia...\n",
       "6704   michezo   akizungumza na gazeti hili jana meneja wa cds...\n",
       "5307   michezo   hatimaye aliyekuwa rais wa shirikisho la soka...\n",
       "22432  michezo   waziri wa maliasili na utalii dk hamisi kigwa...\n",
       "\n",
       "[225 rows x 2 columns]"
      ]
     },
     "metadata": {},
     "output_type": "display_data"
    },
    {
     "name": "stdout",
     "output_type": "stream",
     "text": [
      "\n",
      "'afya' predicted as 'kimataifa' : 483 examples.\n"
     ]
    },
    {
     "data": {
      "text/html": [
       "<div>\n",
       "<style scoped>\n",
       "    .dataframe tbody tr th:only-of-type {\n",
       "        vertical-align: middle;\n",
       "    }\n",
       "\n",
       "    .dataframe tbody tr th {\n",
       "        vertical-align: top;\n",
       "    }\n",
       "\n",
       "    .dataframe thead th {\n",
       "        text-align: right;\n",
       "    }\n",
       "</style>\n",
       "<table border=\"1\" class=\"dataframe\">\n",
       "  <thead>\n",
       "    <tr style=\"text-align: right;\">\n",
       "      <th></th>\n",
       "      <th>category</th>\n",
       "      <th>content</th>\n",
       "    </tr>\n",
       "  </thead>\n",
       "  <tbody>\n",
       "    <tr>\n",
       "      <th>11140</th>\n",
       "      <td>uchumi</td>\n",
       "      <td>alisema serikali imedhamiria kuwa na uchumi w...</td>\n",
       "    </tr>\n",
       "    <tr>\n",
       "      <th>14909</th>\n",
       "      <td>uchumi</td>\n",
       "      <td>rai hiyo ilitolewa jana na mkuu wa mkoa wa mo...</td>\n",
       "    </tr>\n",
       "    <tr>\n",
       "      <th>8465</th>\n",
       "      <td>uchumi</td>\n",
       "      <td>wiki hii julai 1 benki ya dunia iliingiza tanz...</td>\n",
       "    </tr>\n",
       "    <tr>\n",
       "      <th>21690</th>\n",
       "      <td>uchumi</td>\n",
       "      <td>aliongeza kuwa mbali ya kutekeleza dhamira hi...</td>\n",
       "    </tr>\n",
       "    <tr>\n",
       "      <th>20148</th>\n",
       "      <td>uchumi</td>\n",
       "      <td>wafanyabiashara 14 kutoka mikoa ya arusha tab...</td>\n",
       "    </tr>\n",
       "    <tr>\n",
       "      <th>...</th>\n",
       "      <td>...</td>\n",
       "      <td>...</td>\n",
       "    </tr>\n",
       "    <tr>\n",
       "      <th>10201</th>\n",
       "      <td>uchumi</td>\n",
       "      <td>kauli hiyo ilitolewa na waziri wa maliasili n...</td>\n",
       "    </tr>\n",
       "    <tr>\n",
       "      <th>20326</th>\n",
       "      <td>uchumi</td>\n",
       "      <td>wakulima 17 wa mashamba ya miwa wilayani kilo...</td>\n",
       "    </tr>\n",
       "    <tr>\n",
       "      <th>18152</th>\n",
       "      <td>uchumi</td>\n",
       "      <td>imeelezwa kwamba serikali itakapokamilisha tr...</td>\n",
       "    </tr>\n",
       "    <tr>\n",
       "      <th>12376</th>\n",
       "      <td>uchumi</td>\n",
       "      <td>waziri mkuu kassim majaliwa amesema mkoa wa t...</td>\n",
       "    </tr>\n",
       "    <tr>\n",
       "      <th>9707</th>\n",
       "      <td>uchumi</td>\n",
       "      <td>mauzo ya bima ya uingizaji mizigo nchini yame...</td>\n",
       "    </tr>\n",
       "  </tbody>\n",
       "</table>\n",
       "<p>483 rows × 2 columns</p>\n",
       "</div>"
      ],
      "text/plain": [
       "      category                                            content\n",
       "11140   uchumi   alisema serikali imedhamiria kuwa na uchumi w...\n",
       "14909   uchumi   rai hiyo ilitolewa jana na mkuu wa mkoa wa mo...\n",
       "8465    uchumi  wiki hii julai 1 benki ya dunia iliingiza tanz...\n",
       "21690   uchumi   aliongeza kuwa mbali ya kutekeleza dhamira hi...\n",
       "20148   uchumi   wafanyabiashara 14 kutoka mikoa ya arusha tab...\n",
       "...        ...                                                ...\n",
       "10201   uchumi   kauli hiyo ilitolewa na waziri wa maliasili n...\n",
       "20326   uchumi   wakulima 17 wa mashamba ya miwa wilayani kilo...\n",
       "18152   uchumi   imeelezwa kwamba serikali itakapokamilisha tr...\n",
       "12376   uchumi   waziri mkuu kassim majaliwa amesema mkoa wa t...\n",
       "9707    uchumi   mauzo ya bima ya uingizaji mizigo nchini yame...\n",
       "\n",
       "[483 rows x 2 columns]"
      ]
     },
     "metadata": {},
     "output_type": "display_data"
    },
    {
     "name": "stdout",
     "output_type": "stream",
     "text": [
      "\n",
      "'kitaifa' predicted as 'burudani' : 77 examples.\n"
     ]
    },
    {
     "data": {
      "text/html": [
       "<div>\n",
       "<style scoped>\n",
       "    .dataframe tbody tr th:only-of-type {\n",
       "        vertical-align: middle;\n",
       "    }\n",
       "\n",
       "    .dataframe tbody tr th {\n",
       "        vertical-align: top;\n",
       "    }\n",
       "\n",
       "    .dataframe thead th {\n",
       "        text-align: right;\n",
       "    }\n",
       "</style>\n",
       "<table border=\"1\" class=\"dataframe\">\n",
       "  <thead>\n",
       "    <tr style=\"text-align: right;\">\n",
       "      <th></th>\n",
       "      <th>category</th>\n",
       "      <th>content</th>\n",
       "    </tr>\n",
       "  </thead>\n",
       "  <tbody>\n",
       "    <tr>\n",
       "      <th>2462</th>\n",
       "      <td>burudani</td>\n",
       "      <td>theresia gasper  dar es salaam kocha mkuu wa y...</td>\n",
       "    </tr>\n",
       "    <tr>\n",
       "      <th>18616</th>\n",
       "      <td>burudani</td>\n",
       "      <td>na glory mlay mwimbaji nyota wa singeli nchini...</td>\n",
       "    </tr>\n",
       "    <tr>\n",
       "      <th>16202</th>\n",
       "      <td>burudani</td>\n",
       "      <td>kwa kipindi kirefu sasa mchezo wa riadha hapa...</td>\n",
       "    </tr>\n",
       "    <tr>\n",
       "      <th>130</th>\n",
       "      <td>burudani</td>\n",
       "      <td>paris ufaransa  bingwa namba mbili kwa ubora w...</td>\n",
       "    </tr>\n",
       "    <tr>\n",
       "      <th>7311</th>\n",
       "      <td>burudani</td>\n",
       "      <td>meneja wa nyota wa bongo fleva sallam sk amese...</td>\n",
       "    </tr>\n",
       "    <tr>\n",
       "      <th>...</th>\n",
       "      <td>...</td>\n",
       "      <td>...</td>\n",
       "    </tr>\n",
       "    <tr>\n",
       "      <th>14643</th>\n",
       "      <td>burudani</td>\n",
       "      <td>new york marekani mkali wa muziki wa hip hop k...</td>\n",
       "    </tr>\n",
       "    <tr>\n",
       "      <th>12375</th>\n",
       "      <td>burudani</td>\n",
       "      <td>\\r\\n\\tlagos nigeria\\r\\n \\r\\n\\r\\n \\r\\n\\twiki ch...</td>\n",
       "    </tr>\n",
       "    <tr>\n",
       "      <th>20473</th>\n",
       "      <td>burudani</td>\n",
       "      <td>new york marekani nyota wa muziki kutoka nchin...</td>\n",
       "    </tr>\n",
       "    <tr>\n",
       "      <th>3811</th>\n",
       "      <td>burudani</td>\n",
       "      <td>na koku david msanii wa muziki wa kizazi kipya...</td>\n",
       "    </tr>\n",
       "    <tr>\n",
       "      <th>8714</th>\n",
       "      <td>burudani</td>\n",
       "      <td>milan italia rapa kutoka kundi la young money ...</td>\n",
       "    </tr>\n",
       "  </tbody>\n",
       "</table>\n",
       "<p>77 rows × 2 columns</p>\n",
       "</div>"
      ],
      "text/plain": [
       "       category                                            content\n",
       "2462   burudani  theresia gasper  dar es salaam kocha mkuu wa y...\n",
       "18616  burudani  na glory mlay mwimbaji nyota wa singeli nchini...\n",
       "16202  burudani   kwa kipindi kirefu sasa mchezo wa riadha hapa...\n",
       "130    burudani  paris ufaransa  bingwa namba mbili kwa ubora w...\n",
       "7311   burudani  meneja wa nyota wa bongo fleva sallam sk amese...\n",
       "...         ...                                                ...\n",
       "14643  burudani  new york marekani mkali wa muziki wa hip hop k...\n",
       "12375  burudani  \\r\\n\\tlagos nigeria\\r\\n \\r\\n\\r\\n \\r\\n\\twiki ch...\n",
       "20473  burudani  new york marekani nyota wa muziki kutoka nchin...\n",
       "3811   burudani  na koku david msanii wa muziki wa kizazi kipya...\n",
       "8714   burudani  milan italia rapa kutoka kundi la young money ...\n",
       "\n",
       "[77 rows x 2 columns]"
      ]
     },
     "metadata": {},
     "output_type": "display_data"
    },
    {
     "name": "stdout",
     "output_type": "stream",
     "text": [
      "\n",
      "'michezo' predicted as 'burudani' : 12 examples.\n"
     ]
    },
    {
     "data": {
      "text/html": [
       "<div>\n",
       "<style scoped>\n",
       "    .dataframe tbody tr th:only-of-type {\n",
       "        vertical-align: middle;\n",
       "    }\n",
       "\n",
       "    .dataframe tbody tr th {\n",
       "        vertical-align: top;\n",
       "    }\n",
       "\n",
       "    .dataframe thead th {\n",
       "        text-align: right;\n",
       "    }\n",
       "</style>\n",
       "<table border=\"1\" class=\"dataframe\">\n",
       "  <thead>\n",
       "    <tr style=\"text-align: right;\">\n",
       "      <th></th>\n",
       "      <th>category</th>\n",
       "      <th>content</th>\n",
       "    </tr>\n",
       "  </thead>\n",
       "  <tbody>\n",
       "    <tr>\n",
       "      <th>9093</th>\n",
       "      <td>kimataifa</td>\n",
       "      <td>new york marekani staa wa muziki na filamu nch...</td>\n",
       "    </tr>\n",
       "    <tr>\n",
       "      <th>19800</th>\n",
       "      <td>kimataifa</td>\n",
       "      <td>mabingwa wa ligi kuu nchini england chelsea wa...</td>\n",
       "    </tr>\n",
       "    <tr>\n",
       "      <th>11809</th>\n",
       "      <td>kimataifa</td>\n",
       "      <td>kiev ukraine  mchezaji bora duniani cristiano ...</td>\n",
       "    </tr>\n",
       "    <tr>\n",
       "      <th>12590</th>\n",
       "      <td>kimataifa</td>\n",
       "      <td>caracas\\r\\nvenezuela rais wa venezuela nicolas...</td>\n",
       "    </tr>\n",
       "    <tr>\n",
       "      <th>9746</th>\n",
       "      <td>kimataifa</td>\n",
       "      <td>cairo misri nahodha wa timu ya taifa ya zimbab...</td>\n",
       "    </tr>\n",
       "    <tr>\n",
       "      <th>12144</th>\n",
       "      <td>kimataifa</td>\n",
       "      <td>monrovia liberia nyota wa zamani wa mpira wa ...</td>\n",
       "    </tr>\n",
       "    <tr>\n",
       "      <th>2868</th>\n",
       "      <td>kimataifa</td>\n",
       "      <td>los angeles marekani  staa wa muziki na\\r\\nfil...</td>\n",
       "    </tr>\n",
       "    <tr>\n",
       "      <th>19481</th>\n",
       "      <td>kimataifa</td>\n",
       "      <td>na lulu ringo  mzani umebalance michuano ya ko...</td>\n",
       "    </tr>\n",
       "    <tr>\n",
       "      <th>19252</th>\n",
       "      <td>kimataifa</td>\n",
       "      <td>new york marekani mkali wa muziki wa hip hop j...</td>\n",
       "    </tr>\n",
       "    <tr>\n",
       "      <th>7103</th>\n",
       "      <td>kimataifa</td>\n",
       "      <td>saint petersburg urusi leo kwenye uwanja wa s...</td>\n",
       "    </tr>\n",
       "    <tr>\n",
       "      <th>15754</th>\n",
       "      <td>kimataifa</td>\n",
       "      <td>\\r\\n\\r\\n \\r\\n\\tbaada ya klabu ya arsenal kushi...</td>\n",
       "    </tr>\n",
       "    <tr>\n",
       "      <th>5749</th>\n",
       "      <td>kimataifa</td>\n",
       "      <td>barcelona hispania hatimaye mshambuliaji hata...</td>\n",
       "    </tr>\n",
       "  </tbody>\n",
       "</table>\n",
       "</div>"
      ],
      "text/plain": [
       "        category                                            content\n",
       "9093   kimataifa  new york marekani staa wa muziki na filamu nch...\n",
       "19800  kimataifa  mabingwa wa ligi kuu nchini england chelsea wa...\n",
       "11809  kimataifa  kiev ukraine  mchezaji bora duniani cristiano ...\n",
       "12590  kimataifa  caracas\\r\\nvenezuela rais wa venezuela nicolas...\n",
       "9746   kimataifa  cairo misri nahodha wa timu ya taifa ya zimbab...\n",
       "12144  kimataifa   monrovia liberia nyota wa zamani wa mpira wa ...\n",
       "2868   kimataifa  los angeles marekani  staa wa muziki na\\r\\nfil...\n",
       "19481  kimataifa  na lulu ringo  mzani umebalance michuano ya ko...\n",
       "19252  kimataifa  new york marekani mkali wa muziki wa hip hop j...\n",
       "7103   kimataifa   saint petersburg urusi leo kwenye uwanja wa s...\n",
       "15754  kimataifa  \\r\\n\\r\\n \\r\\n\\tbaada ya klabu ya arsenal kushi...\n",
       "5749   kimataifa   barcelona hispania hatimaye mshambuliaji hata..."
      ]
     },
     "metadata": {},
     "output_type": "display_data"
    },
    {
     "name": "stdout",
     "output_type": "stream",
     "text": [
      "\n",
      "'kimataifa' predicted as 'burudani' : 53 examples.\n"
     ]
    },
    {
     "data": {
      "text/html": [
       "<div>\n",
       "<style scoped>\n",
       "    .dataframe tbody tr th:only-of-type {\n",
       "        vertical-align: middle;\n",
       "    }\n",
       "\n",
       "    .dataframe tbody tr th {\n",
       "        vertical-align: top;\n",
       "    }\n",
       "\n",
       "    .dataframe thead th {\n",
       "        text-align: right;\n",
       "    }\n",
       "</style>\n",
       "<table border=\"1\" class=\"dataframe\">\n",
       "  <thead>\n",
       "    <tr style=\"text-align: right;\">\n",
       "      <th></th>\n",
       "      <th>category</th>\n",
       "      <th>content</th>\n",
       "    </tr>\n",
       "  </thead>\n",
       "  <tbody>\n",
       "    <tr>\n",
       "      <th>4890</th>\n",
       "      <td>kitaifa</td>\n",
       "      <td>anna  potinus  dar es salaam mfanyabiashara ma...</td>\n",
       "    </tr>\n",
       "    <tr>\n",
       "      <th>9308</th>\n",
       "      <td>kitaifa</td>\n",
       "      <td>na jennifer ullembodar es salaam mshambuliaji...</td>\n",
       "    </tr>\n",
       "    <tr>\n",
       "      <th>18608</th>\n",
       "      <td>kitaifa</td>\n",
       "      <td>muhadjiri hakizimana ndiye mchezaji bora wa m...</td>\n",
       "    </tr>\n",
       "    <tr>\n",
       "      <th>5147</th>\n",
       "      <td>kitaifa</td>\n",
       "      <td>kocha mkuu wa simba patrick aussems amesema b...</td>\n",
       "    </tr>\n",
       "    <tr>\n",
       "      <th>9224</th>\n",
       "      <td>kitaifa</td>\n",
       "      <td>timu ya soka ya taifa taifa stars imewasili s...</td>\n",
       "    </tr>\n",
       "    <tr>\n",
       "      <th>21544</th>\n",
       "      <td>kitaifa</td>\n",
       "      <td>na mohamed kassara dar es salaam  klabu ya sim...</td>\n",
       "    </tr>\n",
       "    <tr>\n",
       "      <th>20741</th>\n",
       "      <td>kitaifa</td>\n",
       "      <td>kikosi cha timu ya soka ya jkt tanzania kimew...</td>\n",
       "    </tr>\n",
       "    <tr>\n",
       "      <th>11572</th>\n",
       "      <td>kitaifa</td>\n",
       "      <td>ac milan wamesema hawakubaliani na kampeni ya...</td>\n",
       "    </tr>\n",
       "    <tr>\n",
       "      <th>2302</th>\n",
       "      <td>kitaifa</td>\n",
       "      <td>na jennifer ullembodar es salaam mashabiki wa...</td>\n",
       "    </tr>\n",
       "    <tr>\n",
       "      <th>5039</th>\n",
       "      <td>kitaifa</td>\n",
       "      <td>wachezaji wa mbao fc metacha mnata na vincent...</td>\n",
       "    </tr>\n",
       "    <tr>\n",
       "      <th>5514</th>\n",
       "      <td>kitaifa</td>\n",
       "      <td>vinara wa ligi kuu soka tanzania bara yanga t...</td>\n",
       "    </tr>\n",
       "    <tr>\n",
       "      <th>17658</th>\n",
       "      <td>kitaifa</td>\n",
       "      <td>timu ya soka ya wanawake ya tanzania bara kil...</td>\n",
       "    </tr>\n",
       "    <tr>\n",
       "      <th>20450</th>\n",
       "      <td>kitaifa</td>\n",
       "      <td>na theresia gasperdar es salaam mshambuliaji ...</td>\n",
       "    </tr>\n",
       "    <tr>\n",
       "      <th>8562</th>\n",
       "      <td>kitaifa</td>\n",
       "      <td>kocha wa klabu ya simba patrick aussems amese...</td>\n",
       "    </tr>\n",
       "    <tr>\n",
       "      <th>16286</th>\n",
       "      <td>kitaifa</td>\n",
       "      <td>rais wa kenya uhuru kenyatta amewaongoza wake...</td>\n",
       "    </tr>\n",
       "    <tr>\n",
       "      <th>18780</th>\n",
       "      <td>kitaifa</td>\n",
       "      <td>timu ya taifa ya nigeria super eagles imereje...</td>\n",
       "    </tr>\n",
       "    <tr>\n",
       "      <th>15706</th>\n",
       "      <td>kitaifa</td>\n",
       "      <td>waz i ri wa habari utamaduni sanaa na michezo...</td>\n",
       "    </tr>\n",
       "    <tr>\n",
       "      <th>2103</th>\n",
       "      <td>kitaifa</td>\n",
       "      <td>ramadhan hassandodoma spika wa bunge job ndug...</td>\n",
       "    </tr>\n",
       "    <tr>\n",
       "      <th>18995</th>\n",
       "      <td>kitaifa</td>\n",
       "      <td>na sharifa mmasi dar es salaam kocha wa tim...</td>\n",
       "    </tr>\n",
       "    <tr>\n",
       "      <th>21715</th>\n",
       "      <td>kitaifa</td>\n",
       "      <td>kikosi cha mabingwa wa soka tanzania bara sim...</td>\n",
       "    </tr>\n",
       "    <tr>\n",
       "      <th>16367</th>\n",
       "      <td>kitaifa</td>\n",
       "      <td>na adam mkwepudar es salaam mabingwa watetez...</td>\n",
       "    </tr>\n",
       "    <tr>\n",
       "      <th>14178</th>\n",
       "      <td>kitaifa</td>\n",
       "      <td>bethsheba\\r\\nwambura dar es salaam rais john m...</td>\n",
       "    </tr>\n",
       "    <tr>\n",
       "      <th>7750</th>\n",
       "      <td>kitaifa</td>\n",
       "      <td>timu ya soka ya taifataifa stars inatarajiwa ...</td>\n",
       "    </tr>\n",
       "    <tr>\n",
       "      <th>6088</th>\n",
       "      <td>kitaifa</td>\n",
       "      <td>theresia gasperdar es salaam kocha mkuu wa ya...</td>\n",
       "    </tr>\n",
       "    <tr>\n",
       "      <th>3814</th>\n",
       "      <td>kitaifa</td>\n",
       "      <td>waziri wa habari utamaduni sanaa na michezo d...</td>\n",
       "    </tr>\n",
       "    <tr>\n",
       "      <th>9427</th>\n",
       "      <td>kitaifa</td>\n",
       "      <td>mshambuliaji wa krc genk ya ubelgiji na nahod...</td>\n",
       "    </tr>\n",
       "    <tr>\n",
       "      <th>3479</th>\n",
       "      <td>kitaifa</td>\n",
       "      <td>na mwandishi wetu mshambuliaji wa kimataifa w...</td>\n",
       "    </tr>\n",
       "    <tr>\n",
       "      <th>22919</th>\n",
       "      <td>kitaifa</td>\n",
       "      <td>rais mpya wa baraza la vyama vya soka afrika ...</td>\n",
       "    </tr>\n",
       "    <tr>\n",
       "      <th>843</th>\n",
       "      <td>kitaifa</td>\n",
       "      <td>\\r\\n\\r\\n \\r\\n\\tna zainab iddy dar es salaam\\r\\...</td>\n",
       "    </tr>\n",
       "    <tr>\n",
       "      <th>1621</th>\n",
       "      <td>kitaifa</td>\n",
       "      <td>mtendaji mkuu wa bodi ya ligi kuu tanzania ba...</td>\n",
       "    </tr>\n",
       "    <tr>\n",
       "      <th>22468</th>\n",
       "      <td>kitaifa</td>\n",
       "      <td>\\r\\n\\r\\n \\r\\n\\tna adam mkwepudar es salaam\\r\\n...</td>\n",
       "    </tr>\n",
       "    <tr>\n",
       "      <th>12661</th>\n",
       "      <td>kitaifa</td>\n",
       "      <td>bodi ya ligi kuu tanzania imezipa muda klabu ...</td>\n",
       "    </tr>\n",
       "    <tr>\n",
       "      <th>6304</th>\n",
       "      <td>kitaifa</td>\n",
       "      <td>theresia gasper  dar es salaam nahodha wa yang...</td>\n",
       "    </tr>\n",
       "    <tr>\n",
       "      <th>18680</th>\n",
       "      <td>kitaifa</td>\n",
       "      <td>kocha wa yanga mwinyi zahera amerejea nchini ...</td>\n",
       "    </tr>\n",
       "    <tr>\n",
       "      <th>14867</th>\n",
       "      <td>kitaifa</td>\n",
       "      <td>nahodha wa azam fc agrey morris amesema kuwa ...</td>\n",
       "    </tr>\n",
       "    <tr>\n",
       "      <th>8264</th>\n",
       "      <td>kitaifa</td>\n",
       "      <td>baada ya kutekwa na watu wasiojulikana kwa sh...</td>\n",
       "    </tr>\n",
       "    <tr>\n",
       "      <th>8328</th>\n",
       "      <td>kitaifa</td>\n",
       "      <td>uongozi wa jkt oljoro ya jijini arusha ambao ...</td>\n",
       "    </tr>\n",
       "    <tr>\n",
       "      <th>457</th>\n",
       "      <td>kitaifa</td>\n",
       "      <td>timu ya taifa ya soka taifa stars inatarajiwa...</td>\n",
       "    </tr>\n",
       "    <tr>\n",
       "      <th>8269</th>\n",
       "      <td>kitaifa</td>\n",
       "      <td>mkuu wa mkoa wa dar es salaam paul makonda am...</td>\n",
       "    </tr>\n",
       "    <tr>\n",
       "      <th>4449</th>\n",
       "      <td>kitaifa</td>\n",
       "      <td>wakati michezo ya ligi kuu tanzania bara ikie...</td>\n",
       "    </tr>\n",
       "    <tr>\n",
       "      <th>16251</th>\n",
       "      <td>kitaifa</td>\n",
       "      <td>wawakilishi wa tanzania kwenye michuano ya li...</td>\n",
       "    </tr>\n",
       "    <tr>\n",
       "      <th>10057</th>\n",
       "      <td>kitaifa</td>\n",
       "      <td>timu ya jeshi stars imeanza vyema michuano ya...</td>\n",
       "    </tr>\n",
       "    <tr>\n",
       "      <th>16440</th>\n",
       "      <td>kitaifa</td>\n",
       "      <td>pazia la ligi kuu tanzania bara msimu wa mwak...</td>\n",
       "    </tr>\n",
       "    <tr>\n",
       "      <th>2085</th>\n",
       "      <td>kitaifa</td>\n",
       "      <td>bondia francis cheka juzi alikumbana na ngumi...</td>\n",
       "    </tr>\n",
       "    <tr>\n",
       "      <th>12819</th>\n",
       "      <td>kitaifa</td>\n",
       "      <td>kocha wa yanga charles mkwasa amechaguliwa ku...</td>\n",
       "    </tr>\n",
       "    <tr>\n",
       "      <th>8653</th>\n",
       "      <td>kitaifa</td>\n",
       "      <td>vinara wa ligi kuu soka tanzania bara yanga w...</td>\n",
       "    </tr>\n",
       "    <tr>\n",
       "      <th>20383</th>\n",
       "      <td>kitaifa</td>\n",
       "      <td>na zainab iddy wakati watanzani hususani wada...</td>\n",
       "    </tr>\n",
       "    <tr>\n",
       "      <th>11257</th>\n",
       "      <td>kitaifa</td>\n",
       "      <td>na mohamed kassara dar es salaam kocha mkuu wa...</td>\n",
       "    </tr>\n",
       "    <tr>\n",
       "      <th>10555</th>\n",
       "      <td>kitaifa</td>\n",
       "      <td>uongozi wa baraza la vyama vya soka vya afrik...</td>\n",
       "    </tr>\n",
       "    <tr>\n",
       "      <th>3498</th>\n",
       "      <td>kitaifa</td>\n",
       "      <td>makamu wa rais wa zamani wa shirikisho la sok...</td>\n",
       "    </tr>\n",
       "    <tr>\n",
       "      <th>5991</th>\n",
       "      <td>kitaifa</td>\n",
       "      <td>baada ya wiki iliyopita timu ya taifa taifa s...</td>\n",
       "    </tr>\n",
       "    <tr>\n",
       "      <th>20085</th>\n",
       "      <td>kitaifa</td>\n",
       "      <td>kocha wa timu ya azam fc mholanzi hans van pl...</td>\n",
       "    </tr>\n",
       "    <tr>\n",
       "      <th>4349</th>\n",
       "      <td>kitaifa</td>\n",
       "      <td>wanamichezo wa jeshi la wananchi jwtz wanaokw...</td>\n",
       "    </tr>\n",
       "  </tbody>\n",
       "</table>\n",
       "</div>"
      ],
      "text/plain": [
       "      category                                            content\n",
       "4890   kitaifa  anna  potinus  dar es salaam mfanyabiashara ma...\n",
       "9308   kitaifa   na jennifer ullembodar es salaam mshambuliaji...\n",
       "18608  kitaifa   muhadjiri hakizimana ndiye mchezaji bora wa m...\n",
       "5147   kitaifa   kocha mkuu wa simba patrick aussems amesema b...\n",
       "9224   kitaifa   timu ya soka ya taifa taifa stars imewasili s...\n",
       "21544  kitaifa  na mohamed kassara dar es salaam  klabu ya sim...\n",
       "20741  kitaifa   kikosi cha timu ya soka ya jkt tanzania kimew...\n",
       "11572  kitaifa   ac milan wamesema hawakubaliani na kampeni ya...\n",
       "2302   kitaifa   na jennifer ullembodar es salaam mashabiki wa...\n",
       "5039   kitaifa   wachezaji wa mbao fc metacha mnata na vincent...\n",
       "5514   kitaifa   vinara wa ligi kuu soka tanzania bara yanga t...\n",
       "17658  kitaifa   timu ya soka ya wanawake ya tanzania bara kil...\n",
       "20450  kitaifa   na theresia gasperdar es salaam mshambuliaji ...\n",
       "8562   kitaifa   kocha wa klabu ya simba patrick aussems amese...\n",
       "16286  kitaifa   rais wa kenya uhuru kenyatta amewaongoza wake...\n",
       "18780  kitaifa   timu ya taifa ya nigeria super eagles imereje...\n",
       "15706  kitaifa   waz i ri wa habari utamaduni sanaa na michezo...\n",
       "2103   kitaifa   ramadhan hassandodoma spika wa bunge job ndug...\n",
       "18995  kitaifa     na sharifa mmasi dar es salaam kocha wa tim...\n",
       "21715  kitaifa   kikosi cha mabingwa wa soka tanzania bara sim...\n",
       "16367  kitaifa    na adam mkwepudar es salaam mabingwa watetez...\n",
       "14178  kitaifa  bethsheba\\r\\nwambura dar es salaam rais john m...\n",
       "7750   kitaifa   timu ya soka ya taifataifa stars inatarajiwa ...\n",
       "6088   kitaifa   theresia gasperdar es salaam kocha mkuu wa ya...\n",
       "3814   kitaifa   waziri wa habari utamaduni sanaa na michezo d...\n",
       "9427   kitaifa   mshambuliaji wa krc genk ya ubelgiji na nahod...\n",
       "3479   kitaifa   na mwandishi wetu mshambuliaji wa kimataifa w...\n",
       "22919  kitaifa   rais mpya wa baraza la vyama vya soka afrika ...\n",
       "843    kitaifa  \\r\\n\\r\\n \\r\\n\\tna zainab iddy dar es salaam\\r\\...\n",
       "1621   kitaifa   mtendaji mkuu wa bodi ya ligi kuu tanzania ba...\n",
       "22468  kitaifa  \\r\\n\\r\\n \\r\\n\\tna adam mkwepudar es salaam\\r\\n...\n",
       "12661  kitaifa   bodi ya ligi kuu tanzania imezipa muda klabu ...\n",
       "6304   kitaifa  theresia gasper  dar es salaam nahodha wa yang...\n",
       "18680  kitaifa   kocha wa yanga mwinyi zahera amerejea nchini ...\n",
       "14867  kitaifa   nahodha wa azam fc agrey morris amesema kuwa ...\n",
       "8264   kitaifa   baada ya kutekwa na watu wasiojulikana kwa sh...\n",
       "8328   kitaifa   uongozi wa jkt oljoro ya jijini arusha ambao ...\n",
       "457    kitaifa   timu ya taifa ya soka taifa stars inatarajiwa...\n",
       "8269   kitaifa   mkuu wa mkoa wa dar es salaam paul makonda am...\n",
       "4449   kitaifa   wakati michezo ya ligi kuu tanzania bara ikie...\n",
       "16251  kitaifa   wawakilishi wa tanzania kwenye michuano ya li...\n",
       "10057  kitaifa   timu ya jeshi stars imeanza vyema michuano ya...\n",
       "16440  kitaifa   pazia la ligi kuu tanzania bara msimu wa mwak...\n",
       "2085   kitaifa   bondia francis cheka juzi alikumbana na ngumi...\n",
       "12819  kitaifa   kocha wa yanga charles mkwasa amechaguliwa ku...\n",
       "8653   kitaifa   vinara wa ligi kuu soka tanzania bara yanga w...\n",
       "20383  kitaifa   na zainab iddy wakati watanzani hususani wada...\n",
       "11257  kitaifa  na mohamed kassara dar es salaam kocha mkuu wa...\n",
       "10555  kitaifa   uongozi wa baraza la vyama vya soka vya afrik...\n",
       "3498   kitaifa   makamu wa rais wa zamani wa shirikisho la sok...\n",
       "5991   kitaifa   baada ya wiki iliyopita timu ya taifa taifa s...\n",
       "20085  kitaifa   kocha wa timu ya azam fc mholanzi hans van pl...\n",
       "4349   kitaifa   wanamichezo wa jeshi la wananchi jwtz wanaokw..."
      ]
     },
     "metadata": {},
     "output_type": "display_data"
    },
    {
     "name": "stdout",
     "output_type": "stream",
     "text": [
      "\n"
     ]
    }
   ],
   "source": [
    "from IPython.display import display\n",
    "\n",
    "for predicted in category_id_df.category_id:\n",
    "  for actual in category_id_df.category_id:\n",
    "    if predicted != actual and conf_mat[actual, predicted] >= 6:\n",
    "      print(\"'{}' predicted as '{}' : {} examples.\".format(id_to_category[actual], id_to_category[predicted], conf_mat[actual, predicted]))\n",
    "      display(df.loc[indices_test[(y_test == actual) & (y_pred == predicted)]][['category', 'content']])\n",
    "      print('')"
   ]
  },
  {
   "cell_type": "markdown",
   "metadata": {
    "id": "omXsFUAhkfdq"
   },
   "source": [
    "### Show 10 Working examples"
   ]
  },
  {
   "cell_type": "code",
   "execution_count": 54,
   "metadata": {
    "colab": {
     "base_uri": "https://localhost:8080/"
    },
    "id": "9st-P7xlPMj1",
    "outputId": "12a3ac1e-c3d1-46d5-f74b-434549b440de"
   },
   "outputs": [
    {
     "name": "stdout",
     "output_type": "stream",
     "text": [
      "\"Habari ya kutatanisha kinasema ya kwamba kuna mtu ameaga dunia.\"\n",
      "  - Predicted as: 'kimataifa'\n",
      "\n",
      "\"Manchester United walishinda mchezo huo jana na kutinga nusu fainali.\"\n",
      "  - Predicted as: 'burudani'\n",
      "\n",
      "\"Timu ya Harambe Star yacheza na timu ya Tanzania\"\n",
      "  - Predicted as: 'burudani'\n",
      "\n",
      "\"Mwanafunzi aanguka kwenye darasa na akufa.\"\n",
      "  - Predicted as: 'kimataifa'\n",
      "\n",
      "\"Rais wa Marekani atembelea nchi ya Kenya na Tanzania\"\n",
      "  - Predicted as: 'kimataifa'\n",
      "\n",
      "\"Uchanguzi yafanyika nchi Uganda\"\n",
      "  - Predicted as: 'kimataifa'\n",
      "\n",
      "\"Trump hupoteza uchaguzi wake kwa Joe Biden.\"\n",
      "  - Predicted as: 'michezo'\n",
      "\n",
      "\"Rais wa Tanzania Pombe Magufuli afariki dunia.\"\n",
      "  - Predicted as: 'kimataifa'\n",
      "\n"
     ]
    }
   ],
   "source": [
    "#Store 10 news items in a list\n",
    "texts = [\"Habari ya kutatanisha kinasema ya kwamba kuna mtu ameaga dunia.\",\n",
    "         \"Manchester United walishinda mchezo huo jana na kutinga nusu fainali.\",\n",
    "         \"Timu ya Harambe Star yacheza na timu ya Tanzania\",\n",
    "         \"Mwanafunzi aanguka kwenye darasa na akufa.\",\n",
    "         \"Rais wa Marekani atembelea nchi ya Kenya na Tanzania\",\n",
    "         \"Uchanguzi yafanyika nchi Uganda\",\n",
    "         \"Trump hupoteza uchaguzi wake kwa Joe Biden.\",\n",
    "         'Rais wa Tanzania Pombe Magufuli afariki dunia.'\n",
    "         ]\n",
    "#transform the test data\n",
    "text_features = vectorizer.transform(texts)\n",
    "#Predict the transformed test data\n",
    "predictions = model.predict(text_features)\n",
    "#iterate over the test data and their predictions and print them with their predicted class\n",
    "for text, predicted in zip(texts, predictions):\n",
    "  print('\"{}\"'.format(text))\n",
    "  print(\"  - Predicted as: '{}'\".format(id_to_category[predicted]))\n",
    "  print(\"\")"
   ]
  },
  {
   "cell_type": "markdown",
   "metadata": {
    "id": "_W1GoSdkBYEk"
   },
   "source": [
    "# Save the best model"
   ]
  },
  {
   "cell_type": "code",
   "execution_count": null,
   "metadata": {
    "id": "8XCeXjXPeSeC"
   },
   "outputs": [],
   "source": [
    "model =model"
   ]
  },
  {
   "cell_type": "code",
   "execution_count": 55,
   "metadata": {
    "colab": {
     "base_uri": "https://localhost:8080/"
    },
    "id": "03QVKFhrPMkA",
    "outputId": "7c582a18-692f-4585-bdf3-d97569c712a0"
   },
   "outputs": [
    {
     "data": {
      "text/plain": [
       "['nb1_Swahili_model.pkl']"
      ]
     },
     "execution_count": 55,
     "metadata": {},
     "output_type": "execute_result"
    }
   ],
   "source": [
    "#dumb the LinearSVC model in a pickle file\n",
    "joblib.dump(model, 'nb1_Swahili_model.pkl')"
   ]
  },
  {
   "cell_type": "code",
   "execution_count": 56,
   "metadata": {
    "id": "U8sfV3PCPMkC"
   },
   "outputs": [],
   "source": [
    "#read  the model\n",
    "nb1_Swahili_model = open('nb1_Swahili_model.pkl','rb')"
   ]
  },
  {
   "cell_type": "code",
   "execution_count": 57,
   "metadata": {
    "id": "hdwHjbOfPMkE"
   },
   "outputs": [],
   "source": [
    "#load the model\n",
    "model = joblib.load(nb1_Swahili_model)"
   ]
  },
  {
   "cell_type": "code",
   "execution_count": 58,
   "metadata": {
    "colab": {
     "base_uri": "https://localhost:8080/"
    },
    "id": "gJD973zjPMkP",
    "outputId": "54cbab22-0610-4c10-9292-67112ad405e5"
   },
   "outputs": [
    {
     "data": {
      "text/plain": [
       "MultinomialNB()"
      ]
     },
     "execution_count": 58,
     "metadata": {},
     "output_type": "execute_result"
    }
   ],
   "source": [
    "#Check model parameters\n",
    "model"
   ]
  },
  {
   "cell_type": "markdown",
   "metadata": {
    "id": "0zUzlyab4uTu"
   },
   "source": [
    "From the confusion matrix, Multinomial Naive Bayes seem to be a better classifier. We shall use it to classify our news articles. This model will be deployed in Python Flask framework, dockerize and deployed on google cloud platform with Kuberenetes to gurantee scalability."
   ]
  },
  {
   "cell_type": "markdown",
   "metadata": {},
   "source": [
    "# Save the Vectorizer"
   ]
  },
  {
   "cell_type": "code",
   "execution_count": 59,
   "metadata": {},
   "outputs": [],
   "source": [
    "import pickle"
   ]
  },
  {
   "cell_type": "code",
   "execution_count": 60,
   "metadata": {},
   "outputs": [],
   "source": [
    "# now pickle\n",
    "pickle.dump(vectorizer, open(\"vector.pickel\", \"wb\"))"
   ]
  },
  {
   "cell_type": "code",
   "execution_count": 61,
   "metadata": {},
   "outputs": [],
   "source": [
    "vectorizer = pickle.load(open(\"vector.pickel\", \"rb\"))"
   ]
  },
  {
   "cell_type": "markdown",
   "metadata": {
    "id": "sqSr5oBu5Qv_"
   },
   "source": [
    "### Note\n",
    "\n",
    "In this notebook,  I have not removed stopwords from the corpus, this is because there is no complete Swahili stopwords currently available, stopwords have not been removed.\n",
    "\n",
    "\n",
    "Removing the stopwords may potentially improve the accuracy of these models."
   ]
  }
 ],
 "metadata": {
  "accelerator": "GPU",
  "colab": {
   "collapsed_sections": [],
   "name": "Version II of Swahili News Classification.ipynb",
   "provenance": []
  },
  "kernelspec": {
   "display_name": "Python 3",
   "language": "python",
   "name": "python3"
  },
  "language_info": {
   "codemirror_mode": {
    "name": "ipython",
    "version": 3
   },
   "file_extension": ".py",
   "mimetype": "text/x-python",
   "name": "python",
   "nbconvert_exporter": "python",
   "pygments_lexer": "ipython3",
   "version": "3.8.5"
  }
 },
 "nbformat": 4,
 "nbformat_minor": 1
}
